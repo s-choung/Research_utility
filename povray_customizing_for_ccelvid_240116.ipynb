{
  "cells": [
    {
      "cell_type": "markdown",
      "metadata": {
        "id": "view-in-github",
        "colab_type": "text"
      },
      "source": [
        "<a href=\"https://colab.research.google.com/github/s-choung/CCEL_Multiscale/blob/main/povray_customizing_for_ccelvid_240116.ipynb\" target=\"_parent\"><img src=\"https://colab.research.google.com/assets/colab-badge.svg\" alt=\"Open In Colab\"/></a>"
      ]
    },
    {
      "cell_type": "code",
      "source": [
        "from google.colab import drive\n",
        "import os\n",
        "\n",
        "drive.mount('/content/drive')"
      ],
      "metadata": {
        "colab": {
          "base_uri": "https://localhost:8080/"
        },
        "id": "xWbwtTEHae6c",
        "outputId": "72ad8385-9992-4c2a-e281-7b7160272d4e"
      },
      "execution_count": 1,
      "outputs": [
        {
          "output_type": "stream",
          "name": "stdout",
          "text": [
            "Drive already mounted at /content/drive; to attempt to forcibly remount, call drive.mount(\"/content/drive\", force_remount=True).\n"
          ]
        }
      ]
    },
    {
      "cell_type": "code",
      "execution_count": 2,
      "metadata": {
        "colab": {
          "base_uri": "https://localhost:8080/"
        },
        "id": "bBqmYqPXmJk7",
        "outputId": "a6d8c10a-09df-4abf-f799-acd772f12420"
      },
      "outputs": [
        {
          "output_type": "stream",
          "name": "stdout",
          "text": [
            "Requirement already satisfied: ase in /usr/local/lib/python3.10/dist-packages (3.22.1)\n",
            "Requirement already satisfied: matplotlib>=3.1.0 in /usr/local/lib/python3.10/dist-packages (from ase) (3.7.1)\n",
            "Requirement already satisfied: numpy>=1.15.0 in /usr/local/lib/python3.10/dist-packages (from ase) (1.23.5)\n",
            "Requirement already satisfied: scipy>=1.1.0 in /usr/local/lib/python3.10/dist-packages (from ase) (1.11.4)\n",
            "Requirement already satisfied: contourpy>=1.0.1 in /usr/local/lib/python3.10/dist-packages (from matplotlib>=3.1.0->ase) (1.2.0)\n",
            "Requirement already satisfied: cycler>=0.10 in /usr/local/lib/python3.10/dist-packages (from matplotlib>=3.1.0->ase) (0.12.1)\n",
            "Requirement already satisfied: fonttools>=4.22.0 in /usr/local/lib/python3.10/dist-packages (from matplotlib>=3.1.0->ase) (4.47.0)\n",
            "Requirement already satisfied: kiwisolver>=1.0.1 in /usr/local/lib/python3.10/dist-packages (from matplotlib>=3.1.0->ase) (1.4.5)\n",
            "Requirement already satisfied: packaging>=20.0 in /usr/local/lib/python3.10/dist-packages (from matplotlib>=3.1.0->ase) (23.2)\n",
            "Requirement already satisfied: pillow>=6.2.0 in /usr/local/lib/python3.10/dist-packages (from matplotlib>=3.1.0->ase) (9.4.0)\n",
            "Requirement already satisfied: pyparsing>=2.3.1 in /usr/local/lib/python3.10/dist-packages (from matplotlib>=3.1.0->ase) (3.1.1)\n",
            "Requirement already satisfied: python-dateutil>=2.7 in /usr/local/lib/python3.10/dist-packages (from matplotlib>=3.1.0->ase) (2.8.2)\n",
            "Requirement already satisfied: six>=1.5 in /usr/local/lib/python3.10/dist-packages (from python-dateutil>=2.7->matplotlib>=3.1.0->ase) (1.16.0)\n"
          ]
        }
      ],
      "source": [
        "!pip install ase"
      ]
    },
    {
      "cell_type": "code",
      "source": [
        "!sudo apt-get install povray  ## visulization program"
      ],
      "metadata": {
        "colab": {
          "base_uri": "https://localhost:8080/"
        },
        "id": "nBQEqxKte1cz",
        "outputId": "9c8973bf-2256-4c70-86e7-6d3da910ea03"
      },
      "execution_count": 3,
      "outputs": [
        {
          "output_type": "stream",
          "name": "stdout",
          "text": [
            "Reading package lists... Done\n",
            "Building dependency tree... Done\n",
            "Reading state information... Done\n",
            "povray is already the newest version (1:3.7.0.10-1).\n",
            "0 upgraded, 0 newly installed, 0 to remove and 24 not upgraded.\n"
          ]
        }
      ]
    },
    {
      "cell_type": "code",
      "execution_count": 4,
      "metadata": {
        "id": "erziRK_9mS_B"
      },
      "outputs": [],
      "source": [
        "from ase.io import Trajectory\n",
        "from ase.io import write,read\n",
        "\n",
        "trajectory=Trajectory('/content/drive/MyDrive/2_ccel_video_240116/CCEL_HER_video.traj')\n"
      ]
    },
    {
      "cell_type": "code",
      "execution_count": 5,
      "metadata": {
        "id": "bwWGm9FLp7UF",
        "colab": {
          "base_uri": "https://localhost:8080/"
        },
        "outputId": "f3533456-6fdc-4510-d814-467cc0cdb6dc"
      },
      "outputs": [
        {
          "output_type": "stream",
          "name": "stdout",
          "text": [
            "fatal: destination path 'pgroup' already exists and is not an empty directory.\n"
          ]
        }
      ],
      "source": [
        "!git clone https://bitbucket.org/andrewpeterson/pgroup.git\n"
      ]
    },
    {
      "cell_type": "code",
      "source": [
        "from pgroup.python.pgroup.ase.io import POV\n",
        "from ase import io\n",
        "\n",
        "def makeimage(atoms):\n",
        "    pov = POV(atoms,\n",
        "              pixelwidth=2*640,\n",
        "              cameralocation=(0., 0., 6.),\n",
        "             )\n",
        "    pov.write('traj-%02i.pov' % index)\n",
        "\n",
        "for index in range(len(trajectory)):\n",
        "    makeimage(trajectory[index])"
      ],
      "metadata": {
        "id": "DdqCvpOGbPzy"
      },
      "execution_count": 6,
      "outputs": []
    },
    {
      "cell_type": "code",
      "source": [
        "trajectory[0].get_center_of_mass()"
      ],
      "metadata": {
        "colab": {
          "base_uri": "https://localhost:8080/"
        },
        "id": "4PeIK2X1gwYX",
        "outputId": "44fa8f1d-fc59-4678-934f-bfe8789eba79"
      },
      "execution_count": 7,
      "outputs": [
        {
          "output_type": "execute_result",
          "data": {
            "text/plain": [
              "array([ 7.16796329,  2.57571109, 13.81381363])"
            ]
          },
          "metadata": {},
          "execution_count": 7
        }
      ]
    },
    {
      "cell_type": "code",
      "source": [
        "new_pos_trajectory = []\n",
        "\n",
        "for atoms in trajectory:\n",
        "    new_atoms = atoms.copy()\n",
        "    new_atoms=new_atoms*(2,2,1)\n",
        "    new_atoms.positions -= new_atoms.get_center_of_mass()\n",
        "    new_pos_trajectory.append(new_atoms)\n",
        "\n",
        "print(new_pos_trajectory[0].get_center_of_mass())\n",
        "print(new_pos_trajectory[1].get_center_of_mass())\n"
      ],
      "metadata": {
        "colab": {
          "base_uri": "https://localhost:8080/"
        },
        "id": "7AQxGMIAjXZS",
        "outputId": "be5272fd-cb50-428d-891e-511e4dd30b53"
      },
      "execution_count": 8,
      "outputs": [
        {
          "output_type": "stream",
          "name": "stdout",
          "text": [
            "[ 7.30897510e-16  5.77024350e-16 -6.10684104e-16]\n",
            "[ 3.16024742e-15 -1.20426904e-15  3.04902512e-15]\n"
          ]
        }
      ]
    },
    {
      "cell_type": "code",
      "source": [
        "import os\n",
        "from ase import io\n",
        "\n",
        "def makeimage(atoms,index,filename):\n",
        "  pov = POV(atoms,\n",
        "            pixelwidth=2 * 640,\n",
        "            cameralocation=(0., -45., 45.),\n",
        "            look_at=(0., 0., 0.),\n",
        "            background='Black',\n",
        "            area_light = [(0., -10., 30.),'White', 2, .7, 10, 10]\n",
        "            )\n",
        "  pov.write(filename, run_povray=False)\n",
        "  pov.raytrace()\n",
        "  return\n",
        "\n",
        "def makeimage_2(atoms,index,filename):\n",
        "  pov = POV(atoms,\n",
        "            pixelwidth=2 * 640,\n",
        "            cameralocation=(0., -15., 35.),\n",
        "            look_at=(10., 10., 0.),\n",
        "            background='Black',\n",
        "            area_light = [(0., -8., 20.),'White', 2, .7, 2, 2]\n",
        "            )\n",
        "  pov.write(filename, run_povray=False)\n",
        "  pov.raytrace()\n",
        "  return\n"
      ],
      "metadata": {
        "id": "WYIDABXvbPg5"
      },
      "execution_count": 8,
      "outputs": []
    },
    {
      "cell_type": "code",
      "source": [
        "'''진욱이꺼 하는과정\n",
        "filenames = []\n",
        "for index in range(len(new_pos_trajectory[0:3])):\n",
        "    filename = './drive/MyDrive/2_ccel_video_240116/mjw/test-%02i.png' % index\n",
        "    filenames.append(makeimage_2(new_pos_trajectory[index],index,filename))\n",
        "'''"
      ],
      "metadata": {
        "colab": {
          "base_uri": "https://localhost:8080/",
          "height": 55
        },
        "id": "562DYRcwL167",
        "outputId": "85aa507d-e190-44d5-c99b-72bbda70bea1"
      },
      "execution_count": 10,
      "outputs": [
        {
          "output_type": "execute_result",
          "data": {
            "text/plain": [
              "\"진욱이꺼 하는과정\\nfilenames = []\\nfor index in range(len(new_pos_trajectory[0:3])):\\n    filename = './drive/MyDrive/2_ccel_video_240116/mjw/test-%02i.png' % index\\n    filenames.append(makeimage_2(new_pos_trajectory[index],index,filename))\\n\""
            ],
            "application/vnd.google.colaboratory.intrinsic+json": {
              "type": "string"
            }
          },
          "metadata": {},
          "execution_count": 10
        }
      ]
    },
    {
      "cell_type": "code",
      "source": [
        "trajectory_2=Trajectory('/content/drive/MyDrive/2_ccel_video_240116/NiFeMOOH.traj')\n",
        "new_pos_trajectory_2 = []\n",
        "\n",
        "for atoms in trajectory_2:\n",
        "    new_atoms = atoms.copy()\n",
        "    new_atoms=new_atoms*(2,1,1)\n",
        "    #new_atoms.positions -= new_atoms.get_center_of_mass()\n",
        "    new_pos_trajectory_2.append(new_atoms)\n",
        "\n",
        "print(new_pos_trajectory_2[0].get_center_of_mass())\n",
        "print(new_pos_trajectory_2[1].get_center_of_mass())\n",
        "\n",
        "for index in range(len(new_pos_trajectory_2[::3])):\n",
        "  filename = './drive/MyDrive/2_ccel_video_240116/pwk_new/test-%02i.png' % index\n",
        "  makeimage_2(new_pos_trajectory_2[index],index,filename)"
      ],
      "metadata": {
        "colab": {
          "base_uri": "https://localhost:8080/"
        },
        "id": "i336Jkd_Ki22",
        "outputId": "c32017e3-60b0-4839-c0ac-a68c0a8d988b"
      },
      "execution_count": 11,
      "outputs": [
        {
          "output_type": "stream",
          "name": "stdout",
          "text": [
            "[6.02694354 7.43131545 3.65027973]\n",
            "[6.03355889 7.43510394 3.66177253]\n"
          ]
        }
      ]
    },
    {
      "cell_type": "code",
      "source": [
        "!pip install imageio"
      ],
      "metadata": {
        "colab": {
          "base_uri": "https://localhost:8080/"
        },
        "id": "EBNxAfepLVQu",
        "outputId": "ced4b2b6-da8e-4c22-9194-1157de5f1526"
      },
      "execution_count": 12,
      "outputs": [
        {
          "output_type": "stream",
          "name": "stdout",
          "text": [
            "Requirement already satisfied: imageio in /usr/local/lib/python3.10/dist-packages (2.31.6)\n",
            "Requirement already satisfied: numpy in /usr/local/lib/python3.10/dist-packages (from imageio) (1.23.5)\n",
            "Requirement already satisfied: pillow<10.1.0,>=8.3.2 in /usr/local/lib/python3.10/dist-packages (from imageio) (9.4.0)\n"
          ]
        }
      ]
    },
    {
      "cell_type": "code",
      "source": [
        "import imageio\n",
        "fileList = []\n",
        "path='/content/drive/MyDrive/2_ccel_video_240116/mjw/'\n",
        "for file in os.listdir(path):\n",
        "    if file.endswith('png'):\n",
        "        complete_path = path + file\n",
        "        fileList.append(complete_path)\n",
        "\n",
        "writer = imageio.get_writer('test.mp4', fps=20, codec='mpeg4', quality=10, pixelformat='yuv420p')\n",
        "for im in fileList[0:100]:\n",
        "    writer.append_data(imageio.imread(im))\n",
        "writer.close()\n"
      ],
      "metadata": {
        "colab": {
          "base_uri": "https://localhost:8080/"
        },
        "id": "krFDBGYaZF8X",
        "outputId": "f13a1e2b-3e2b-4e89-bf3a-6eb15479cae9"
      },
      "execution_count": 22,
      "outputs": [
        {
          "output_type": "stream",
          "name": "stderr",
          "text": [
            "<ipython-input-22-badf0c6b7fed>:11: DeprecationWarning: Starting with ImageIO v3 the behavior of this function will switch to that of iio.v3.imread. To keep the current behavior (and make this warning disappear) use `import imageio.v2 as imageio` or call `imageio.v2.imread` directly.\n",
            "  writer.append_data(imageio.imread(im))\n"
          ]
        }
      ]
    },
    {
      "cell_type": "code",
      "source": [
        "import imageio\n",
        "fileList = []\n",
        "path='/content/drive/MyDrive/2_ccel_video_240116/pwk_new/'\n",
        "for file in os.listdir(path):\n",
        "    if file.endswith('png'):\n",
        "        complete_path = path + file\n",
        "        fileList.append(complete_path)\n",
        "\n",
        "writer = imageio.get_writer('/content/drive/MyDrive/2_ccel_video_240116/test_pwk.mp4', fps=10, codec='mpeg4', quality=10, pixelformat='yuv420p')\n",
        "for im in fileList[30::2]:\n",
        "    writer.append_data(imageio.imread(im))\n",
        "writer.close()\n"
      ],
      "metadata": {
        "colab": {
          "base_uri": "https://localhost:8080/"
        },
        "id": "FfTZc3CCarwQ",
        "outputId": "3683d56e-e51f-4004-849e-260d0d55979b"
      },
      "execution_count": 23,
      "outputs": [
        {
          "output_type": "stream",
          "name": "stderr",
          "text": [
            "<ipython-input-23-d8e3d2015b79>:11: DeprecationWarning: Starting with ImageIO v3 the behavior of this function will switch to that of iio.v3.imread. To keep the current behavior (and make this warning disappear) use `import imageio.v2 as imageio` or call `imageio.v2.imread` directly.\n",
            "  writer.append_data(imageio.imread(im))\n"
          ]
        }
      ]
    }
  ],
  "metadata": {
    "colab": {
      "machine_shape": "hm",
      "provenance": [],
      "authorship_tag": "ABX9TyN+fNJAvi0CRd45iTyWPuaj",
      "include_colab_link": true
    },
    "kernelspec": {
      "display_name": "Python 3",
      "name": "python3"
    },
    "language_info": {
      "name": "python"
    }
  },
  "nbformat": 4,
  "nbformat_minor": 0
}