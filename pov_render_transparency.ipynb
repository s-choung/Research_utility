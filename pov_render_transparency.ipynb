{
  "nbformat": 4,
  "nbformat_minor": 0,
  "metadata": {
    "colab": {
      "provenance": [],
      "authorship_tag": "ABX9TyP4njicwoQHN+5cIGLoPG7x",
      "include_colab_link": true
    },
    "kernelspec": {
      "name": "python3",
      "display_name": "Python 3"
    },
    "language_info": {
      "name": "python"
    }
  },
  "cells": [
    {
      "cell_type": "markdown",
      "metadata": {
        "id": "view-in-github",
        "colab_type": "text"
      },
      "source": [
        "<a href=\"https://colab.research.google.com/github/s-choung/Research_utility/blob/main/pov_render_transparency.ipynb\" target=\"_parent\"><img src=\"https://colab.research.google.com/assets/colab-badge.svg\" alt=\"Open In Colab\"/></a>"
      ]
    },
    {
      "cell_type": "code",
      "source": [
        "!pip install ase"
      ],
      "metadata": {
        "colab": {
          "base_uri": "https://localhost:8080/"
        },
        "id": "sV7Ra35hpDhC",
        "outputId": "050ff958-40e3-40e4-86fe-7d1bd5a076fe"
      },
      "execution_count": 2,
      "outputs": [
        {
          "output_type": "stream",
          "name": "stdout",
          "text": [
            "Looking in indexes: https://pypi.org/simple, https://us-python.pkg.dev/colab-wheels/public/simple/\n",
            "Collecting ase\n",
            "  Downloading ase-3.22.1-py3-none-any.whl (2.2 MB)\n",
            "\u001b[2K     \u001b[90m━━━━━━━━━━━━━━━━━━━━━━━━━━━━━━━━━━━━━━━━\u001b[0m \u001b[32m2.2/2.2 MB\u001b[0m \u001b[31m17.0 MB/s\u001b[0m eta \u001b[36m0:00:00\u001b[0m\n",
            "\u001b[?25hRequirement already satisfied: scipy>=1.1.0 in /usr/local/lib/python3.9/dist-packages (from ase) (1.10.1)\n",
            "Requirement already satisfied: numpy>=1.15.0 in /usr/local/lib/python3.9/dist-packages (from ase) (1.22.4)\n",
            "Requirement already satisfied: matplotlib>=3.1.0 in /usr/local/lib/python3.9/dist-packages (from ase) (3.7.1)\n",
            "Requirement already satisfied: pillow>=6.2.0 in /usr/local/lib/python3.9/dist-packages (from matplotlib>=3.1.0->ase) (8.4.0)\n",
            "Requirement already satisfied: importlib-resources>=3.2.0 in /usr/local/lib/python3.9/dist-packages (from matplotlib>=3.1.0->ase) (5.12.0)\n",
            "Requirement already satisfied: fonttools>=4.22.0 in /usr/local/lib/python3.9/dist-packages (from matplotlib>=3.1.0->ase) (4.39.3)\n",
            "Requirement already satisfied: contourpy>=1.0.1 in /usr/local/lib/python3.9/dist-packages (from matplotlib>=3.1.0->ase) (1.0.7)\n",
            "Requirement already satisfied: cycler>=0.10 in /usr/local/lib/python3.9/dist-packages (from matplotlib>=3.1.0->ase) (0.11.0)\n",
            "Requirement already satisfied: python-dateutil>=2.7 in /usr/local/lib/python3.9/dist-packages (from matplotlib>=3.1.0->ase) (2.8.2)\n",
            "Requirement already satisfied: packaging>=20.0 in /usr/local/lib/python3.9/dist-packages (from matplotlib>=3.1.0->ase) (23.1)\n",
            "Requirement already satisfied: kiwisolver>=1.0.1 in /usr/local/lib/python3.9/dist-packages (from matplotlib>=3.1.0->ase) (1.4.4)\n",
            "Requirement already satisfied: pyparsing>=2.3.1 in /usr/local/lib/python3.9/dist-packages (from matplotlib>=3.1.0->ase) (3.0.9)\n",
            "Requirement already satisfied: zipp>=3.1.0 in /usr/local/lib/python3.9/dist-packages (from importlib-resources>=3.2.0->matplotlib>=3.1.0->ase) (3.15.0)\n",
            "Requirement already satisfied: six>=1.5 in /usr/local/lib/python3.9/dist-packages (from python-dateutil>=2.7->matplotlib>=3.1.0->ase) (1.16.0)\n",
            "Installing collected packages: ase\n",
            "Successfully installed ase-3.22.1\n"
          ]
        }
      ]
    },
    {
      "cell_type": "code",
      "source": [
        "!sudo apt-get install povray"
      ],
      "metadata": {
        "colab": {
          "base_uri": "https://localhost:8080/"
        },
        "id": "IL_RkYT7qgEs",
        "outputId": "b931f905-9e62-4277-c4d6-3a003a52febf"
      },
      "execution_count": 8,
      "outputs": [
        {
          "output_type": "stream",
          "name": "stdout",
          "text": [
            "Reading package lists... Done\n",
            "Building dependency tree       \n",
            "Reading state information... Done\n",
            "The following additional packages will be installed:\n",
            "  fonts-povray libsdl1.2debian povray-includes\n",
            "Suggested packages:\n",
            "  povray-doc povray-examples\n",
            "The following NEW packages will be installed:\n",
            "  fonts-povray libsdl1.2debian povray povray-includes\n",
            "0 upgraded, 4 newly installed, 0 to remove and 24 not upgraded.\n",
            "Need to get 1,739 kB of archives.\n",
            "After this operation, 5,789 kB of additional disk space will be used.\n",
            "Get:1 http://archive.ubuntu.com/ubuntu focal/universe amd64 fonts-povray all 1:3.7.0.8-4build1 [65.6 kB]\n",
            "Get:2 http://archive.ubuntu.com/ubuntu focal/universe amd64 libsdl1.2debian amd64 1.2.15+dfsg2-5 [175 kB]\n",
            "Get:3 http://archive.ubuntu.com/ubuntu focal/universe amd64 povray amd64 1:3.7.0.8-4build1 [1,275 kB]\n",
            "Get:4 http://archive.ubuntu.com/ubuntu focal/universe amd64 povray-includes all 1:3.7.0.8-4build1 [223 kB]\n",
            "Fetched 1,739 kB in 1s (1,208 kB/s)\n",
            "debconf: unable to initialize frontend: Dialog\n",
            "debconf: (No usable dialog-like program is installed, so the dialog based frontend cannot be used. at /usr/share/perl5/Debconf/FrontEnd/Dialog.pm line 76, <> line 4.)\n",
            "debconf: falling back to frontend: Readline\n",
            "debconf: unable to initialize frontend: Readline\n",
            "debconf: (This frontend requires a controlling tty.)\n",
            "debconf: falling back to frontend: Teletype\n",
            "dpkg-preconfigure: unable to re-open stdin: \n",
            "Selecting previously unselected package fonts-povray.\n",
            "(Reading database ... 122400 files and directories currently installed.)\n",
            "Preparing to unpack .../fonts-povray_1%3a3.7.0.8-4build1_all.deb ...\n",
            "Unpacking fonts-povray (1:3.7.0.8-4build1) ...\n",
            "Selecting previously unselected package libsdl1.2debian:amd64.\n",
            "Preparing to unpack .../libsdl1.2debian_1.2.15+dfsg2-5_amd64.deb ...\n",
            "Unpacking libsdl1.2debian:amd64 (1.2.15+dfsg2-5) ...\n",
            "Selecting previously unselected package povray.\n",
            "Preparing to unpack .../povray_1%3a3.7.0.8-4build1_amd64.deb ...\n",
            "Unpacking povray (1:3.7.0.8-4build1) ...\n",
            "Selecting previously unselected package povray-includes.\n",
            "Preparing to unpack .../povray-includes_1%3a3.7.0.8-4build1_all.deb ...\n",
            "Unpacking povray-includes (1:3.7.0.8-4build1) ...\n",
            "Setting up libsdl1.2debian:amd64 (1.2.15+dfsg2-5) ...\n",
            "Setting up fonts-povray (1:3.7.0.8-4build1) ...\n",
            "Setting up povray (1:3.7.0.8-4build1) ...\n",
            "Setting up povray-includes (1:3.7.0.8-4build1) ...\n",
            "Processing triggers for libc-bin (2.31-0ubuntu9.9) ...\n",
            "Processing triggers for man-db (2.9.1-1) ...\n",
            "Processing triggers for fontconfig (2.13.1-2ubuntu3) ...\n"
          ]
        }
      ]
    },
    {
      "cell_type": "code",
      "execution_count": 21,
      "metadata": {
        "colab": {
          "base_uri": "https://localhost:8080/",
          "height": 342
        },
        "id": "U7LZOOo7opwL",
        "outputId": "c645e6aa-dce3-4aae-bd9a-8c81dccf6bbe"
      },
      "outputs": [
        {
          "output_type": "stream",
          "name": "stdout",
          "text": [
            "cell=Cell([3.8, 3.8, 3.8]), a=3.7999999999999994\n",
            "# atoms target=100, actual 165\n"
          ]
        },
        {
          "output_type": "display_data",
          "data": {
            "text/plain": [
              "<PIL.PngImagePlugin.PngImageFile image mode=RGBA size=288x288 at 0x7F0A25067850>"
            ],
            "image/png": "[encoded data removed]"
          },
          "metadata": {}
        }
      ],
      "source": [
        "from ase.cluster import Decahedron, Icosahedron, Octahedron, wulff_construction\n",
        "from ase.io import Trajectory\n",
        "import pandas as pd\n",
        "from ase.build import bulk\n",
        "from ase.constraints import ExpCellFilter, StrainFilter\n",
        "from ase.optimize import LBFGS\n",
        "import numpy as np\n",
        "from ase import Atoms\n",
        "from ase.build import fcc111, add_adsorbate, bulk\n",
        "from ase.io import read, write\n",
        "from ase.io.pov import write_pov\n",
        "from PIL import Image\n",
        "from IPython.display import display\n",
        "\n",
        "atoms_bulk = bulk(\"Pt\", \"fcc\", a=3.8, cubic=True)\n",
        "a = np.mean(np.diag(atoms_bulk.cell))\n",
        "print(f\"cell={atoms_bulk.cell}, a={a}\")\n",
        "\n",
        "def cluster2atoms(cluster):\n",
        "    return Atoms(cluster.symbols, cluster.positions, cell=cluster.cell)\n",
        "\n",
        "surfaces = [(1, 0, 0), (1, 1, 0), (1, 1, 1)]\n",
        "esurf = [1.856, 1.681, 1.488]\n",
        "lc = a\n",
        "size=100\n",
        "Pt_3nm = wulff_construction(\"Pt\", surfaces, esurf, size, \"fcc\", rounding=\"above\", latticeconstant=lc)\n",
        "print(f\"# atoms target={size}, actual {len(Pt_3nm)}\")\n",
        "\n",
        "def render_and_display_np(structure, index, max_size=(100, 100)):\n",
        "    renderer = write('{index}.pov', structure, rotation='20z,-85x')\n",
        "    renderer.render()\n",
        "    image_path = '{index}.png'\n",
        "    img = Image.open(image_path)\n",
        "    img.thumbnail(max_size, Image.LANCZOS)\n",
        "    display(img)\n",
        "render_and_display_np(Pt_3nm,'./content/{index}',(300, 300))"
      ]
    },
    {
      "cell_type": "code",
      "source": [
        "!pip install --upgrade ase"
      ],
      "metadata": {
        "colab": {
          "base_uri": "https://localhost:8080/"
        },
        "id": "hTu7EN1zT-hj",
        "outputId": "9afd7f05-e6c1-46dd-b361-019ed75505c7"
      },
      "execution_count": 64,
      "outputs": [
        {
          "output_type": "stream",
          "name": "stdout",
          "text": [
            "Looking in indexes: https://pypi.org/simple, https://us-python.pkg.dev/colab-wheels/public/simple/\n",
            "Requirement already satisfied: ase in /usr/local/lib/python3.9/dist-packages (3.22.1)\n",
            "Requirement already satisfied: matplotlib>=3.1.0 in /usr/local/lib/python3.9/dist-packages (from ase) (3.7.1)\n",
            "Requirement already satisfied: scipy>=1.1.0 in /usr/local/lib/python3.9/dist-packages (from ase) (1.10.1)\n",
            "Requirement already satisfied: numpy>=1.15.0 in /usr/local/lib/python3.9/dist-packages (from ase) (1.22.4)\n",
            "Requirement already satisfied: python-dateutil>=2.7 in /usr/local/lib/python3.9/dist-packages (from matplotlib>=3.1.0->ase) (2.8.2)\n",
            "Requirement already satisfied: contourpy>=1.0.1 in /usr/local/lib/python3.9/dist-packages (from matplotlib>=3.1.0->ase) (1.0.7)\n",
            "Requirement already satisfied: importlib-resources>=3.2.0 in /usr/local/lib/python3.9/dist-packages (from matplotlib>=3.1.0->ase) (5.12.0)\n",
            "Requirement already satisfied: cycler>=0.10 in /usr/local/lib/python3.9/dist-packages (from matplotlib>=3.1.0->ase) (0.11.0)\n",
            "Requirement already satisfied: pyparsing>=2.3.1 in /usr/local/lib/python3.9/dist-packages (from matplotlib>=3.1.0->ase) (3.0.9)\n",
            "Requirement already satisfied: pillow>=6.2.0 in /usr/local/lib/python3.9/dist-packages (from matplotlib>=3.1.0->ase) (8.4.0)\n",
            "Requirement already satisfied: fonttools>=4.22.0 in /usr/local/lib/python3.9/dist-packages (from matplotlib>=3.1.0->ase) (4.39.3)\n",
            "Requirement already satisfied: kiwisolver>=1.0.1 in /usr/local/lib/python3.9/dist-packages (from matplotlib>=3.1.0->ase) (1.4.4)\n",
            "Requirement already satisfied: packaging>=20.0 in /usr/local/lib/python3.9/dist-packages (from matplotlib>=3.1.0->ase) (23.1)\n",
            "Requirement already satisfied: zipp>=3.1.0 in /usr/local/lib/python3.9/dist-packages (from importlib-resources>=3.2.0->matplotlib>=3.1.0->ase) (3.15.0)\n",
            "Requirement already satisfied: six>=1.5 in /usr/local/lib/python3.9/dist-packages (from python-dateutil>=2.7->matplotlib>=3.1.0->ase) (1.16.0)\n"
          ]
        }
      ]
    },
    {
      "cell_type": "code",
      "source": [
        "#example modified from https://gitlab.com/ase/ase/-/merge_requests/114 this is old code so supposee to make some error in write. povray_settings will be needed i guess\n",
        "\n",
        "import numpy as np\n",
        "\n",
        "from ase import Atoms\n",
        "from ase.io import write\n",
        "from ase.lattice.surface import fcc100\n",
        "from ase.lattice.surface import add_adsorbate\n",
        "\n",
        "from ase.data.colors import jmol_colors\n",
        "\n",
        "# the metal slab\n",
        "atoms = fcc100('Pt', size = [4,10,3], vacuum = 10)\n",
        "transmittances = [0 for a in atoms]\n",
        "bonded_atoms = []\n",
        "\n",
        "# the dissociating oxygen... fake some dissociation curve\n",
        "upper_layer_idx = [a.index for a in atoms if a.position[-1] == np.max(atoms.get_positions()[:,-1])]\n",
        "\n",
        "middle = np.max(atoms.get_positions()[upper_layer_idx][:,:2], axis=0)/2.\n",
        "\n",
        "gas_dist = 1.1\n",
        "max_height = 8.\n",
        "min_height = 1.\n",
        "max_dist = 6\n",
        "\n",
        "# running index for the bonds\n",
        "index = len(atoms)\n",
        "\n",
        "for i, x in enumerate(np.linspace(0,1.5,6)):\n",
        "    height = (max_height-min_height)*np.exp(-2*x) + min_height\n",
        "    pos = middle + np.array([0,1])*(np.exp(1.5*x)/np.exp(1.5**2)*max_dist/2. + gas_dist/2.)\n",
        "    add_adsorbate(atoms, 'O', height = height, position = pos)\n",
        "\n",
        "    pos = middle - np.array([0,1])*(np.exp(1.5*x)/np.exp(1.5**2)*max_dist/2. + gas_dist/2.)\n",
        "    add_adsorbate(atoms, 'O', height = height, position = pos)\n",
        "\n",
        "    transmittances += [x/2]*2\n",
        "\n",
        "    # we want bonds for the first two molecules\n",
        "    if i < 2:\n",
        "        bonded_atoms.append([len(atoms) - a for a in [1,2]])\n",
        "\n",
        "textures = ['ase3' for a in atoms]\n",
        "\n",
        "# add some semi-transparent bath (only in x/y direction for this example)\n",
        "cell = atoms.get_cell()\n",
        "\n",
        "idx = [a.index for a in atoms if a.symbol == 'Pt']\n",
        "\n",
        "Nbulk = len(idx)\n",
        "multiples = [0, 1, -1]\n",
        "for i in multiples:\n",
        "    for j in multiples:\n",
        "            if i == j == 0:\n",
        "                continue\n",
        "            _atoms = atoms[idx].copy()\n",
        "            _atoms.translate(i*cell[0] + j*cell[1])\n",
        "            atoms += _atoms\n",
        "            transmittances += [0.8] * Nbulk\n",
        "            textures += ['pale'] * Nbulk\n",
        "\n",
        "bbox = [-30, 10, 5, 25]\n",
        "\n",
        "write('transmittance_example.pov', atoms,\n",
        "      rotation='90z,-75x',\n",
        "      show_unit_cell=0,povray_settings=dict(     display=False,\n",
        "      pause=False,\n",
        "      canvas_width=1024,\n",
        "      bondatoms=bonded_atoms,\n",
        "      camera_type='perspective',\n",
        "      transmittances=transmittances,\n",
        "      textures=textures)\n",
        "      )\n"
      ],
      "metadata": {
        "colab": {
          "base_uri": "https://localhost:8080/"
        },
        "id": "lAZ3d0guReyK",
        "outputId": "9e22f5bd-d078-4c94-9010-81c25df730ed"
      },
      "execution_count": 69,
      "outputs": [
        {
          "output_type": "execute_result",
          "data": {
            "text/plain": [
              "<ase.io.pov.POVRAYInputs at 0x7f0a250675b0>"
            ]
          },
          "metadata": {},
          "execution_count": 69
        }
      ]
    },
    {
      "cell_type": "code",
      "source": [
        "#example from https://wiki.fysik.dtu.dk/ase/ase/spacegroup/spacegroup.html\n",
        "\n",
        "import ase.io as io\n",
        "from ase.build import cut\n",
        "from ase.spacegroup import crystal\n",
        "\n",
        "a = 9.04\n",
        "skutterudite = crystal(('Co', 'Sb'),\n",
        "                       basis=[(0.25, 0.25, 0.25), (0.0, 0.335, 0.158)],\n",
        "                       spacegroup=204,\n",
        "                       cellpar=[a, a, a, 90, 90, 90])\n",
        "\n",
        "# Create a new atoms instance with Co at origo including all atoms on the\n",
        "# surface of the unit cell\n",
        "cosb3 = cut(skutterudite, origo=(0.25, 0.25, 0.25), extend=1.01)\n",
        "\n",
        "# Define the atomic bonds to show\n",
        "bondatoms = []\n",
        "symbols = cosb3.get_chemical_symbols()\n",
        "for i in range(len(cosb3)):\n",
        "    for j in range(i):\n",
        "        if (symbols[i] == symbols[j] == 'Co' and\n",
        "                cosb3.get_distance(i, j) < 4.53):\n",
        "            bondatoms.append((i, j))\n",
        "        elif (symbols[i] == symbols[j] == 'Sb' and\n",
        "              cosb3.get_distance(i, j) < 2.99):\n",
        "            bondatoms.append((i, j))\n",
        "transmittances = [0.5 for a in atoms]\n",
        "\n",
        "# Create nice-looking image using povray\n",
        "renderer = io.write('spacegroup-cosb3.pov', cosb3,\n",
        "                    rotation='90y',\n",
        "                    radii=0.4,\n",
        "                    povray_settings=dict(transmittances=transmittances,\n",
        "                                         camera_type='perspective',\n",
        "                                         canvas_width=320,\n",
        "                                         bondlinewidth=0.07,\n",
        "                                         bondatoms=bondatoms))\n",
        "\n",
        "renderer.render()"
      ],
      "metadata": {
        "colab": {
          "base_uri": "https://localhost:8080/"
        },
        "id": "T_AHb-gPTvd_",
        "outputId": "f7bd60d0-e90d-4a22-dd76-cd86a8bb5c3d"
      },
      "execution_count": 71,
      "outputs": [
        {
          "output_type": "execute_result",
          "data": {
            "text/plain": [
              "PosixPath('/content/spacegroup-cosb3.png')"
            ]
          },
          "metadata": {},
          "execution_count": 71
        }
      ]
    },
    {
      "cell_type": "code",
      "source": [
        "from ase.io import write\n",
        "\n",
        "def render_and_display_trans(structure, index, max_size=(100, 100)):\n",
        "    transmittances = [0.9 for a in structure]\n",
        "    renderer = write('{index}.pov', structure, rotation='20z,-85x',povray_settings=dict(transmittances=transmittances,\n",
        "                                         camera_type='perspective',\n",
        "                                         canvas_width=200,\n",
        "                                         bondlinewidth=0.07))\n",
        "    renderer.render()\n",
        "    image_path = '{index}.png'\n",
        "    img = Image.open(image_path)\n",
        "    img.thumbnail(max_size, Image.LANCZOS)\n",
        "    display(img)\n",
        "\n",
        "render_and_display_trans(Pt_3nm,'./content/{index}3',(300, 300))"
      ],
      "metadata": {
        "id": "44VCICCNRaw_"
      },
      "execution_count": null,
      "outputs": []
    },
    {
      "cell_type": "code",
      "source": [
        "#example from https://bitbucket.org/andrewpeterson/pgroup/src/master/python/pgroup/ase/io.py\n",
        "from ase import io\n",
        "from hi import POV\n",
        "\n",
        "traj = io.Trajectory('Au-diffusion.traj')\n",
        "fixed = len(traj) - 1  # the image to show as solid\n",
        "movingatoms = [94,]  # list of moving atoms we want to capture\n",
        "repeat = (3, 3, 1)  # periodic extension\n",
        "\n",
        "atoms = traj[fixed].repeat(repeat)\n",
        "lookat = (atoms[89].position + atoms[92].position) / 2.\n",
        "cameralocation = lookat + (0., -7., 12.)\n",
        "\n",
        "pov = POV(atoms,\n",
        "          pixelwidth=2.0*640,\n",
        "          radii=1.0,\n",
        "          look_at=lookat,\n",
        "          cameralocation=cameralocation,\n",
        "         )\n",
        "pov.write('ghost.pov', run_povray=False)\n",
        "\n",
        "\n",
        "def add_transparent_image(pov, atoms, movingatoms, transmit=0.7):\n",
        "    \"\"\"Adds the atoms to the pov file, but in a transparent manner.\n",
        "    Only those atoms indexed in movingatoms are added. transmit is\n",
        "    level of transparency.\"\"\"\n",
        "    for index in movingatoms:\n",
        "        pos = atoms[index].position.copy()\n",
        "        radius = pov._radii[index]\n",
        "        color = pov._colors[index]\n",
        "        line = ('sphere{<%.2f,%.2f,%.2f>, %.2f texture{pigment{rgb'\n",
        "                ' <%.2f,%.2f,%.2f> transmit %.2f}}}'\n",
        "                % (pos[0], pos[1], pos[2], radius,\n",
        "                   color[0], color[1], color[2], transmit))\n",
        "        with open(pov._filename, 'a') as f:\n",
        "            f.write(line)\n",
        "\n",
        "for count, atoms in enumerate(traj):\n",
        "    print(count)\n",
        "    if count == fixed:\n",
        "        continue\n",
        "    atoms = atoms.repeat(repeat)\n",
        "    add_transparent_image(pov, atoms, movingatoms, transmit=0.7)\n",
        "\n",
        "pov.raytrace()"
      ],
      "metadata": {
        "colab": {
          "base_uri": "https://localhost:8080/"
        },
        "id": "psatBWYlFQk1",
        "outputId": "295f55f4-22f6-4daf-9520-f86cb3018fad"
      },
      "execution_count": 54,
      "outputs": [
        {
          "output_type": "stream",
          "name": "stdout",
          "text": [
            "0\n",
            "1\n",
            "2\n",
            "3\n",
            "4\n",
            "5\n",
            "6\n"
          ]
        }
      ]
    }
  ]
}