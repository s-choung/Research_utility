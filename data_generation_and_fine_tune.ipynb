{
  "cells": [
    {
      "cell_type": "markdown",
      "metadata": {
        "id": "view-in-github",
        "colab_type": "text"
      },
      "source": [
        "<a href=\"https://colab.research.google.com/github/s-choung/Research_utility/blob/main/data_generation_and_fine_tune.ipynb\" target=\"_parent\"><img src=\"https://colab.research.google.com/assets/colab-badge.svg\" alt=\"Open In Colab\"/></a>"
      ]
    },
    {
      "cell_type": "markdown",
      "metadata": {
        "id": "Ub6I7bOQHq20"
      },
      "source": [
        "# Installing OCP pretrained models\n",
        "written by S.Choung 10th Oct\n",
        "This code is to test out OC models using OC pretrained models"
      ]
    },
    {
      "cell_type": "markdown",
      "metadata": {
        "id": "5-JateToGjJk"
      },
      "source": [
        "## OCP installation"
      ]
    },
    {
      "cell_type": "code",
      "source": [
        "from google.colab import drive\n",
        "import os\n",
        "\n",
        "drive.mount('/content/drive')\n"
      ],
      "metadata": {
        "colab": {
          "base_uri": "https://localhost:8080/"
        },
        "id": "nLxRw-UqGdpE",
        "outputId": "7d63bda6-3d83-4b93-afb6-b67b3122f00d"
      },
      "execution_count": null,
      "outputs": [
        {
          "output_type": "stream",
          "name": "stdout",
          "text": [
            "Mounted at /content/drive\n"
          ]
        }
      ]
    },
    {
      "cell_type": "code",
      "execution_count": null,
      "metadata": {
        "colab": {
          "base_uri": "https://localhost:8080/"
        },
        "id": "979M637dgdx6",
        "outputId": "04e18185-14fc-46f2-c1f9-9024b99a6a34"
      },
      "outputs": [
        {
          "output_type": "stream",
          "name": "stdout",
          "text": [
            "2.1.0+cu118\n",
            "\u001b[2K     \u001b[90m━━━━━━━━━━━━━━━━━━━━━━━━━━━━━━━━━━━━━━━━\u001b[0m \u001b[32m10.2/10.2 MB\u001b[0m \u001b[31m70.9 MB/s\u001b[0m eta \u001b[36m0:00:00\u001b[0m\n",
            "\u001b[2K     \u001b[90m━━━━━━━━━━━━━━━━━━━━━━━━━━━━━━━━━━━━━━━━\u001b[0m \u001b[32m4.9/4.9 MB\u001b[0m \u001b[31m63.6 MB/s\u001b[0m eta \u001b[36m0:00:00\u001b[0m\n",
            "\u001b[2K     \u001b[90m━━━━━━━━━━━━━━━━━━━━━━━━━━━━━━━━━━━━━━━━\u001b[0m \u001b[32m3.3/3.3 MB\u001b[0m \u001b[31m50.2 MB/s\u001b[0m eta \u001b[36m0:00:00\u001b[0m\n",
            "\u001b[?25h  Installing build dependencies ... \u001b[?25l\u001b[?25hdone\n",
            "  Getting requirements to build wheel ... \u001b[?25l\u001b[?25hdone\n",
            "  Preparing metadata (pyproject.toml) ... \u001b[?25l\u001b[?25hdone\n",
            "  Building wheel for torch_geometric (pyproject.toml) ... \u001b[?25l\u001b[?25hdone\n",
            "Cloning into 'ocp'...\n",
            "remote: Enumerating objects: 11786, done.\u001b[K\n",
            "remote: Counting objects: 100% (2674/2674), done.\u001b[K\n",
            "remote: Compressing objects: 100% (702/702), done.\u001b[K\n",
            "remote: Total 11786 (delta 2285), reused 2081 (delta 1972), pack-reused 9112\u001b[K\n",
            "Receiving objects: 100% (11786/11786), 172.62 MiB | 15.90 MiB/s, done.\n",
            "Resolving deltas: 100% (8138/8138), done.\n",
            "Obtaining file:///content/ocp\n",
            "  Installing build dependencies ... \u001b[?25l\u001b[?25hdone\n",
            "  Checking if build backend supports build_editable ... \u001b[?25l\u001b[?25hdone\n",
            "  Getting requirements to build editable ... \u001b[?25l\u001b[?25hdone\n",
            "  Preparing editable metadata (pyproject.toml) ... \u001b[?25l\u001b[?25hdone\n",
            "Building wheels for collected packages: ocp-models\n",
            "  Building editable for ocp-models (pyproject.toml) ... \u001b[?25l\u001b[?25hdone\n",
            "  Created wheel for ocp-models: filename=ocp_models-0.0.3-0.editable-py3-none-any.whl size=3474 sha256=a7709412cbac8c98c4c4316dbf4ef703968d2b6e6b32071d02923814762d3964\n",
            "  Stored in directory: /tmp/pip-ephem-wheel-cache-jpq15qwq/wheels/29/db/87/61b8ac706262b22238c01b070b675db289c051f2d890c74f3b\n",
            "Successfully built ocp-models\n",
            "Installing collected packages: ocp-models\n",
            "Successfully installed ocp-models-0.0.3\n",
            "\u001b[2K     \u001b[90m━━━━━━━━━━━━━━━━━━━━━━━━━━━━━━━━━━━━━━━━\u001b[0m \u001b[32m299.2/299.2 kB\u001b[0m \u001b[31m5.7 MB/s\u001b[0m eta \u001b[36m0:00:00\u001b[0m\n",
            "\u001b[2K     \u001b[90m━━━━━━━━━━━━━━━━━━━━━━━━━━━━━━━━━━━━━━━━\u001b[0m \u001b[32m12.4/12.4 MB\u001b[0m \u001b[31m5.1 MB/s\u001b[0m eta \u001b[36m0:00:00\u001b[0m\n",
            "\u001b[2K     \u001b[90m━━━━━━━━━━━━━━━━━━━━━━━━━━━━━━━━━━━━━━━━\u001b[0m \u001b[32m2.2/2.2 MB\u001b[0m \u001b[31m87.2 MB/s\u001b[0m eta \u001b[36m0:00:00\u001b[0m\n",
            "\u001b[2K     \u001b[90m━━━━━━━━━━━━━━━━━━━━━━━━━━━━━━━━━━━━━━━━\u001b[0m \u001b[32m138.7/138.7 kB\u001b[0m \u001b[31m19.5 MB/s\u001b[0m eta \u001b[36m0:00:00\u001b[0m\n",
            "\u001b[2K     \u001b[90m━━━━━━━━━━━━━━━━━━━━━━━━━━━━━━━━━━━━━━━━\u001b[0m \u001b[32m367.5/367.5 kB\u001b[0m \u001b[31m39.6 MB/s\u001b[0m eta \u001b[36m0:00:00\u001b[0m\n",
            "\u001b[2K     \u001b[90m━━━━━━━━━━━━━━━━━━━━━━━━━━━━━━━━━━━━━━━━\u001b[0m \u001b[32m2.1/2.1 MB\u001b[0m \u001b[31m79.9 MB/s\u001b[0m eta \u001b[36m0:00:00\u001b[0m\n",
            "\u001b[2K     \u001b[90m━━━━━━━━━━━━━━━━━━━━━━━━━━━━━━━━━━━━━━━━\u001b[0m \u001b[32m42.7/42.7 kB\u001b[0m \u001b[31m6.0 MB/s\u001b[0m eta \u001b[36m0:00:00\u001b[0m\n",
            "\u001b[2K     \u001b[90m━━━━━━━━━━━━━━━━━━━━━━━━━━━━━━━━━━━━━━━━\u001b[0m \u001b[32m98.6/98.6 kB\u001b[0m \u001b[31m12.9 MB/s\u001b[0m eta \u001b[36m0:00:00\u001b[0m\n",
            "\u001b[2K     \u001b[90m━━━━━━━━━━━━━━━━━━━━━━━━━━━━━━━━━━━━━━━━\u001b[0m \u001b[32m332.3/332.3 kB\u001b[0m \u001b[31m40.8 MB/s\u001b[0m eta \u001b[36m0:00:00\u001b[0m\n",
            "\u001b[2K     \u001b[90m━━━━━━━━━━━━━━━━━━━━━━━━━━━━━━━━━━━━━━━━\u001b[0m \u001b[32m561.4/561.4 kB\u001b[0m \u001b[31m52.8 MB/s\u001b[0m eta \u001b[36m0:00:00\u001b[0m\n",
            "\u001b[2K     \u001b[90m━━━━━━━━━━━━━━━━━━━━━━━━━━━━━━━━━━━━━━━━\u001b[0m \u001b[32m116.4/116.4 kB\u001b[0m \u001b[31m14.9 MB/s\u001b[0m eta \u001b[36m0:00:00\u001b[0m\n",
            "\u001b[2K     \u001b[90m━━━━━━━━━━━━━━━━━━━━━━━━━━━━━━━━━━━━━━━━\u001b[0m \u001b[32m802.1/802.1 kB\u001b[0m \u001b[31m70.3 MB/s\u001b[0m eta \u001b[36m0:00:00\u001b[0m\n",
            "\u001b[2K     \u001b[90m━━━━━━━━━━━━━━━━━━━━━━━━━━━━━━━━━━━━━━━━\u001b[0m \u001b[32m98.4/98.4 kB\u001b[0m \u001b[31m14.0 MB/s\u001b[0m eta \u001b[36m0:00:00\u001b[0m\n",
            "\u001b[2K     \u001b[90m━━━━━━━━━━━━━━━━━━━━━━━━━━━━━━━━━━━━━━━━\u001b[0m \u001b[32m190.6/190.6 kB\u001b[0m \u001b[31m25.7 MB/s\u001b[0m eta \u001b[36m0:00:00\u001b[0m\n",
            "\u001b[2K     \u001b[90m━━━━━━━━━━━━━━━━━━━━━━━━━━━━━━━━━━━━━━━━\u001b[0m \u001b[32m243.9/243.9 kB\u001b[0m \u001b[31m30.0 MB/s\u001b[0m eta \u001b[36m0:00:00\u001b[0m\n",
            "\u001b[2K     \u001b[90m━━━━━━━━━━━━━━━━━━━━━━━━━━━━━━━━━━━━━━━━\u001b[0m \u001b[32m62.7/62.7 kB\u001b[0m \u001b[31m9.3 MB/s\u001b[0m eta \u001b[36m0:00:00\u001b[0m\n",
            "\u001b[2K     \u001b[90m━━━━━━━━━━━━━━━━━━━━━━━━━━━━━━━━━━━━━━━━\u001b[0m \u001b[32m109.5/109.5 kB\u001b[0m \u001b[31m15.0 MB/s\u001b[0m eta \u001b[36m0:00:00\u001b[0m\n",
            "\u001b[2K     \u001b[90m━━━━━━━━━━━━━━━━━━━━━━━━━━━━━━━━━━━━━━━━\u001b[0m \u001b[32m175.0/175.0 kB\u001b[0m \u001b[31m24.8 MB/s\u001b[0m eta \u001b[36m0:00:00\u001b[0m\n",
            "\u001b[2K     \u001b[90m━━━━━━━━━━━━━━━━━━━━━━━━━━━━━━━━━━━━━━━━\u001b[0m \u001b[32m526.7/526.7 kB\u001b[0m \u001b[31m53.1 MB/s\u001b[0m eta \u001b[36m0:00:00\u001b[0m\n",
            "\u001b[2K     \u001b[90m━━━━━━━━━━━━━━━━━━━━━━━━━━━━━━━━━━━━━━━━\u001b[0m \u001b[32m174.7/174.7 kB\u001b[0m \u001b[31m22.1 MB/s\u001b[0m eta \u001b[36m0:00:00\u001b[0m\n",
            "\u001b[2K     \u001b[90m━━━━━━━━━━━━━━━━━━━━━━━━━━━━━━━━━━━━━━━━\u001b[0m \u001b[32m174.7/174.7 kB\u001b[0m \u001b[31m22.6 MB/s\u001b[0m eta \u001b[36m0:00:00\u001b[0m\n",
            "\u001b[2K     \u001b[90m━━━━━━━━━━━━━━━━━━━━━━━━━━━━━━━━━━━━━━━━\u001b[0m \u001b[32m174.7/174.7 kB\u001b[0m \u001b[31m25.0 MB/s\u001b[0m eta \u001b[36m0:00:00\u001b[0m\n",
            "\u001b[2K     \u001b[90m━━━━━━━━━━━━━━━━━━━━━━━━━━━━━━━━━━━━━━━━\u001b[0m \u001b[32m174.7/174.7 kB\u001b[0m \u001b[31m22.1 MB/s\u001b[0m eta \u001b[36m0:00:00\u001b[0m\n",
            "\u001b[2K     \u001b[90m━━━━━━━━━━━━━━━━━━━━━━━━━━━━━━━━━━━━━━━━\u001b[0m \u001b[32m174.7/174.7 kB\u001b[0m \u001b[31m25.6 MB/s\u001b[0m eta \u001b[36m0:00:00\u001b[0m\n",
            "\u001b[2K     \u001b[90m━━━━━━━━━━━━━━━━━━━━━━━━━━━━━━━━━━━━━━━━\u001b[0m \u001b[32m174.7/174.7 kB\u001b[0m \u001b[31m25.8 MB/s\u001b[0m eta \u001b[36m0:00:00\u001b[0m\n",
            "\u001b[2K     \u001b[90m━━━━━━━━━━━━━━━━━━━━━━━━━━━━━━━━━━━━━━━━\u001b[0m \u001b[32m174.7/174.7 kB\u001b[0m \u001b[31m11.8 MB/s\u001b[0m eta \u001b[36m0:00:00\u001b[0m\n",
            "\u001b[2K     \u001b[90m━━━━━━━━━━━━━━━━━━━━━━━━━━━━━━━━━━━━━━━━\u001b[0m \u001b[32m174.7/174.7 kB\u001b[0m \u001b[31m24.8 MB/s\u001b[0m eta \u001b[36m0:00:00\u001b[0m\n",
            "\u001b[2K     \u001b[90m━━━━━━━━━━━━━━━━━━━━━━━━━━━━━━━━━━━━━━━━\u001b[0m \u001b[32m174.7/174.7 kB\u001b[0m \u001b[31m25.4 MB/s\u001b[0m eta \u001b[36m0:00:00\u001b[0m\n",
            "\u001b[2K     \u001b[90m━━━━━━━━━━━━━━━━━━━━━━━━━━━━━━━━━━━━━━━━\u001b[0m \u001b[32m174.7/174.7 kB\u001b[0m \u001b[31m24.2 MB/s\u001b[0m eta \u001b[36m0:00:00\u001b[0m\n",
            "\u001b[2K     \u001b[90m━━━━━━━━━━━━━━━━━━━━━━━━━━━━━━━━━━━━━━━━\u001b[0m \u001b[32m174.7/174.7 kB\u001b[0m \u001b[31m25.2 MB/s\u001b[0m eta \u001b[36m0:00:00\u001b[0m\n",
            "\u001b[2K     \u001b[90m━━━━━━━━━━━━━━━━━━━━━━━━━━━━━━━━━━━━━━━━\u001b[0m \u001b[32m174.5/174.5 kB\u001b[0m \u001b[31m23.1 MB/s\u001b[0m eta \u001b[36m0:00:00\u001b[0m\n",
            "\u001b[2K     \u001b[90m━━━━━━━━━━━━━━━━━━━━━━━━━━━━━━━━━━━━━━━━\u001b[0m \u001b[32m174.5/174.5 kB\u001b[0m \u001b[31m24.6 MB/s\u001b[0m eta \u001b[36m0:00:00\u001b[0m\n",
            "\u001b[2K     \u001b[90m━━━━━━━━━━━━━━━━━━━━━━━━━━━━━━━━━━━━━━━━\u001b[0m \u001b[32m174.5/174.5 kB\u001b[0m \u001b[31m23.2 MB/s\u001b[0m eta \u001b[36m0:00:00\u001b[0m\n",
            "\u001b[2K     \u001b[90m━━━━━━━━━━━━━━━━━━━━━━━━━━━━━━━━━━━━━━━━\u001b[0m \u001b[32m174.5/174.5 kB\u001b[0m \u001b[31m24.1 MB/s\u001b[0m eta \u001b[36m0:00:00\u001b[0m\n",
            "\u001b[2K     \u001b[90m━━━━━━━━━━━━━━━━━━━━━━━━━━━━━━━━━━━━━━━━\u001b[0m \u001b[32m174.5/174.5 kB\u001b[0m \u001b[31m25.2 MB/s\u001b[0m eta \u001b[36m0:00:00\u001b[0m\n",
            "\u001b[2K     \u001b[90m━━━━━━━━━━━━━━━━━━━━━━━━━━━━━━━━━━━━━━━━\u001b[0m \u001b[32m174.5/174.5 kB\u001b[0m \u001b[31m24.8 MB/s\u001b[0m eta \u001b[36m0:00:00\u001b[0m\n",
            "\u001b[2K     \u001b[90m━━━━━━━━━━━━━━━━━━━━━━━━━━━━━━━━━━━━━━━━\u001b[0m \u001b[32m174.5/174.5 kB\u001b[0m \u001b[31m23.2 MB/s\u001b[0m eta \u001b[36m0:00:00\u001b[0m\n",
            "\u001b[2K     \u001b[90m━━━━━━━━━━━━━━━━━━━━━━━━━━━━━━━━━━━━━━━━\u001b[0m \u001b[32m174.5/174.5 kB\u001b[0m \u001b[31m23.3 MB/s\u001b[0m eta \u001b[36m0:00:00\u001b[0m\n",
            "\u001b[2K     \u001b[90m━━━━━━━━━━━━━━━━━━━━━━━━━━━━━━━━━━━━━━━━\u001b[0m \u001b[32m174.5/174.5 kB\u001b[0m \u001b[31m25.0 MB/s\u001b[0m eta \u001b[36m0:00:00\u001b[0m\n",
            "\u001b[2K     \u001b[90m━━━━━━━━━━━━━━━━━━━━━━━━━━━━━━━━━━━━━━━━\u001b[0m \u001b[32m174.5/174.5 kB\u001b[0m \u001b[31m23.9 MB/s\u001b[0m eta \u001b[36m0:00:00\u001b[0m\n",
            "\u001b[2K     \u001b[90m━━━━━━━━━━━━━━━━━━━━━━━━━━━━━━━━━━━━━━━━\u001b[0m \u001b[32m174.2/174.2 kB\u001b[0m \u001b[31m24.3 MB/s\u001b[0m eta \u001b[36m0:00:00\u001b[0m\n",
            "\u001b[2K     \u001b[90m━━━━━━━━━━━━━━━━━━━━━━━━━━━━━━━━━━━━━━━━\u001b[0m \u001b[32m174.2/174.2 kB\u001b[0m \u001b[31m23.6 MB/s\u001b[0m eta \u001b[36m0:00:00\u001b[0m\n",
            "\u001b[2K     \u001b[90m━━━━━━━━━━━━━━━━━━━━━━━━━━━━━━━━━━━━━━━━\u001b[0m \u001b[32m174.1/174.1 kB\u001b[0m \u001b[31m23.2 MB/s\u001b[0m eta \u001b[36m0:00:00\u001b[0m\n",
            "\u001b[2K     \u001b[90m━━━━━━━━━━━━━━━━━━━━━━━━━━━━━━━━━━━━━━━━\u001b[0m \u001b[32m174.0/174.0 kB\u001b[0m \u001b[31m23.2 MB/s\u001b[0m eta \u001b[36m0:00:00\u001b[0m\n",
            "\u001b[2K     \u001b[90m━━━━━━━━━━━━━━━━━━━━━━━━━━━━━━━━━━━━━━━━\u001b[0m \u001b[32m174.0/174.0 kB\u001b[0m \u001b[31m24.4 MB/s\u001b[0m eta \u001b[36m0:00:00\u001b[0m\n",
            "\u001b[2K     \u001b[90m━━━━━━━━━━━━━━━━━━━━━━━━━━━━━━━━━━━━━━━━\u001b[0m \u001b[32m174.0/174.0 kB\u001b[0m \u001b[31m23.3 MB/s\u001b[0m eta \u001b[36m0:00:00\u001b[0m\n",
            "\u001b[2K     \u001b[90m━━━━━━━━━━━━━━━━━━━━━━━━━━━━━━━━━━━━━━━━\u001b[0m \u001b[32m174.0/174.0 kB\u001b[0m \u001b[31m23.9 MB/s\u001b[0m eta \u001b[36m0:00:00\u001b[0m\n",
            "\u001b[2K     \u001b[90m━━━━━━━━━━━━━━━━━━━━━━━━━━━━━━━━━━━━━━━━\u001b[0m \u001b[32m174.0/174.0 kB\u001b[0m \u001b[31m25.0 MB/s\u001b[0m eta \u001b[36m0:00:00\u001b[0m\n",
            "\u001b[2K     \u001b[90m━━━━━━━━━━━━━━━━━━━━━━━━━━━━━━━━━━━━━━━━\u001b[0m \u001b[32m174.0/174.0 kB\u001b[0m \u001b[31m24.0 MB/s\u001b[0m eta \u001b[36m0:00:00\u001b[0m\n",
            "\u001b[2K     \u001b[90m━━━━━━━━━━━━━━━━━━━━━━━━━━━━━━━━━━━━━━━━\u001b[0m \u001b[32m174.0/174.0 kB\u001b[0m \u001b[31m22.1 MB/s\u001b[0m eta \u001b[36m0:00:00\u001b[0m\n",
            "\u001b[2K     \u001b[90m━━━━━━━━━━━━━━━━━━━━━━━━━━━━━━━━━━━━━━━━\u001b[0m \u001b[32m174.0/174.0 kB\u001b[0m \u001b[31m23.2 MB/s\u001b[0m eta \u001b[36m0:00:00\u001b[0m\n",
            "\u001b[2K     \u001b[90m━━━━━━━━━━━━━━━━━━━━━━━━━━━━━━━━━━━━━━━━\u001b[0m \u001b[32m174.0/174.0 kB\u001b[0m \u001b[31m23.2 MB/s\u001b[0m eta \u001b[36m0:00:00\u001b[0m\n",
            "\u001b[2K     \u001b[90m━━━━━━━━━━━━━━━━━━━━━━━━━━━━━━━━━━━━━━━━\u001b[0m \u001b[32m174.0/174.0 kB\u001b[0m \u001b[31m23.1 MB/s\u001b[0m eta \u001b[36m0:00:00\u001b[0m\n",
            "\u001b[2K     \u001b[90m━━━━━━━━━━━━━━━━━━━━━━━━━━━━━━━━━━━━━━━━\u001b[0m \u001b[32m174.0/174.0 kB\u001b[0m \u001b[31m23.2 MB/s\u001b[0m eta \u001b[36m0:00:00\u001b[0m\n",
            "\u001b[2K     \u001b[90m━━━━━━━━━━━━━━━━━━━━━━━━━━━━━━━━━━━━━━━━\u001b[0m \u001b[32m395.8/395.8 kB\u001b[0m \u001b[31m42.7 MB/s\u001b[0m eta \u001b[36m0:00:00\u001b[0m\n",
            "\u001b[2K     \u001b[90m━━━━━━━━━━━━━━━━━━━━━━━━━━━━━━━━━━━━━━━━\u001b[0m \u001b[32m2.1/2.1 MB\u001b[0m \u001b[31m85.8 MB/s\u001b[0m eta \u001b[36m0:00:00\u001b[0m\n",
            "\u001b[2K     \u001b[90m━━━━━━━━━━━━━━━━━━━━━━━━━━━━━━━━━━━━━━━━\u001b[0m \u001b[32m113.7/113.7 kB\u001b[0m \u001b[31m16.1 MB/s\u001b[0m eta \u001b[36m0:00:00\u001b[0m\n",
            "\u001b[2K     \u001b[90m━━━━━━━━━━━━━━━━━━━━━━━━━━━━━━━━━━━━━━━━\u001b[0m \u001b[32m677.1/677.1 kB\u001b[0m \u001b[31m58.0 MB/s\u001b[0m eta \u001b[36m0:00:00\u001b[0m\n",
            "\u001b[2K     \u001b[90m━━━━━━━━━━━━━━━━━━━━━━━━━━━━━━━━━━━━━━━━\u001b[0m \u001b[32m60.0/60.0 kB\u001b[0m \u001b[31m8.8 MB/s\u001b[0m eta \u001b[36m0:00:00\u001b[0m\n",
            "\u001b[2K     \u001b[90m━━━━━━━━━━━━━━━━━━━━━━━━━━━━━━━━━━━━━━━━\u001b[0m \u001b[32m110.1/110.1 kB\u001b[0m \u001b[31m16.1 MB/s\u001b[0m eta \u001b[36m0:00:00\u001b[0m\n",
            "\u001b[2K     \u001b[90m━━━━━━━━━━━━━━━━━━━━━━━━━━━━━━━━━━━━━━━━\u001b[0m \u001b[32m92.9/92.9 kB\u001b[0m \u001b[31m12.6 MB/s\u001b[0m eta \u001b[36m0:00:00\u001b[0m\n",
            "\u001b[2K     \u001b[90m━━━━━━━━━━━━━━━━━━━━━━━━━━━━━━━━━━━━━━━━\u001b[0m \u001b[32m1.1/1.1 MB\u001b[0m \u001b[31m74.6 MB/s\u001b[0m eta \u001b[36m0:00:00\u001b[0m\n",
            "\u001b[2K     \u001b[90m━━━━━━━━━━━━━━━━━━━━━━━━━━━━━━━━━━━━━━━━\u001b[0m \u001b[32m300.4/300.4 kB\u001b[0m \u001b[31m36.7 MB/s\u001b[0m eta \u001b[36m0:00:00\u001b[0m\n",
            "\u001b[2K     \u001b[90m━━━━━━━━━━━━━━━━━━━━━━━━━━━━━━━━━━━━━━━━\u001b[0m \u001b[32m135.8/135.8 kB\u001b[0m \u001b[31m18.9 MB/s\u001b[0m eta \u001b[36m0:00:00\u001b[0m\n",
            "\u001b[2K     \u001b[90m━━━━━━━━━━━━━━━━━━━━━━━━━━━━━━━━━━━━━━━━\u001b[0m \u001b[32m59.7/59.7 kB\u001b[0m \u001b[31m8.6 MB/s\u001b[0m eta \u001b[36m0:00:00\u001b[0m\n",
            "\u001b[2K     \u001b[90m━━━━━━━━━━━━━━━━━━━━━━━━━━━━━━━━━━━━━━━━\u001b[0m \u001b[32m11.3/11.3 MB\u001b[0m \u001b[31m115.7 MB/s\u001b[0m eta \u001b[36m0:00:00\u001b[0m\n",
            "\u001b[2K     \u001b[90m━━━━━━━━━━━━━━━━━━━━━━━━━━━━━━━━━━━━━━━━\u001b[0m \u001b[32m79.8/79.8 kB\u001b[0m \u001b[31m11.7 MB/s\u001b[0m eta \u001b[36m0:00:00\u001b[0m\n",
            "\u001b[2K     \u001b[90m━━━━━━━━━━━━━━━━━━━━━━━━━━━━━━━━━━━━━━━━\u001b[0m \u001b[32m67.0/67.0 kB\u001b[0m \u001b[31m9.7 MB/s\u001b[0m eta \u001b[36m0:00:00\u001b[0m\n",
            "\u001b[?25h  Preparing metadata (setup.py) ... \u001b[?25l\u001b[?25hdone\n",
            "\u001b[2K     \u001b[90m━━━━━━━━━━━━━━━━━━━━━━━━━━━━━━━━━━━━━━━━\u001b[0m \u001b[32m2.0/2.0 MB\u001b[0m \u001b[31m100.3 MB/s\u001b[0m eta \u001b[36m0:00:00\u001b[0m\n",
            "\u001b[2K     \u001b[90m━━━━━━━━━━━━━━━━━━━━━━━━━━━━━━━━━━━━━━━━\u001b[0m \u001b[32m224.8/224.8 kB\u001b[0m \u001b[31m29.4 MB/s\u001b[0m eta \u001b[36m0:00:00\u001b[0m\n",
            "\u001b[2K     \u001b[90m━━━━━━━━━━━━━━━━━━━━━━━━━━━━━━━━━━━━━━━━\u001b[0m \u001b[32m58.3/58.3 kB\u001b[0m \u001b[31m8.5 MB/s\u001b[0m eta \u001b[36m0:00:00\u001b[0m\n",
            "\u001b[2K     \u001b[90m━━━━━━━━━━━━━━━━━━━━━━━━━━━━━━━━━━━━━━━━\u001b[0m \u001b[32m593.7/593.7 kB\u001b[0m \u001b[31m51.8 MB/s\u001b[0m eta \u001b[36m0:00:00\u001b[0m\n",
            "\u001b[2K     \u001b[90m━━━━━━━━━━━━━━━━━━━━━━━━━━━━━━━━━━━━━━━━\u001b[0m \u001b[32m856.7/856.7 kB\u001b[0m \u001b[31m73.4 MB/s\u001b[0m eta \u001b[36m0:00:00\u001b[0m\n",
            "\u001b[?25h  Building wheel for sentinels (setup.py) ... \u001b[?25l\u001b[?25hdone\n",
            "\u001b[31mERROR: pip's dependency resolver does not currently take into account all the packages that are installed. This behaviour is the source of the following dependency conflicts.\n",
            "lida 0.0.10 requires kaleido, which is not installed.\n",
            "lida 0.0.10 requires python-multipart, which is not installed.\n",
            "llmx 0.0.15a0 requires cohere, which is not installed.\n",
            "llmx 0.0.15a0 requires openai, which is not installed.\n",
            "llmx 0.0.15a0 requires tiktoken, which is not installed.\n",
            "notebook 6.5.5 requires pyzmq<25,>=17, but you have pyzmq 25.1.1 which is incompatible.\n",
            "tensorflow-probability 0.22.0 requires typing-extensions<4.6.0, but you have typing-extensions 4.8.0 which is incompatible.\u001b[0m\u001b[31m\n",
            "\u001b[0mCollecting submitit\n",
            "  Downloading submitit-1.5.1-py3-none-any.whl (74 kB)\n",
            "\u001b[2K     \u001b[90m━━━━━━━━━━━━━━━━━━━━━━━━━━━━━━━━━━━━━━━━\u001b[0m \u001b[32m74.7/74.7 kB\u001b[0m \u001b[31m2.5 MB/s\u001b[0m eta \u001b[36m0:00:00\u001b[0m\n",
            "\u001b[?25hRequirement already satisfied: cloudpickle>=1.2.1 in /usr/local/lib/python3.10/dist-packages (from submitit) (2.2.1)\n",
            "Requirement already satisfied: typing_extensions>=3.7.4.2 in /usr/local/lib/python3.10/dist-packages (from submitit) (4.8.0)\n",
            "Installing collected packages: submitit\n",
            "Successfully installed submitit-1.5.1\n"
          ]
        }
      ],
      "source": [
        "import os\n",
        "import torch\n",
        "os.environ['TORCH'] = torch.__version__\n",
        "print(torch.__version__)\n",
        "\n",
        "!pip install -q torch-scatter -f https://data.pyg.org/whl/torch-${TORCH}.html\n",
        "!pip install -q torch-sparse -f https://data.pyg.org/whl/torch-${TORCH}.html\n",
        "!pip install -q torch-cluster -f https://data.pyg.org/whl/torch-${TORCH}.html\n",
        "!pip install -q git+https://github.com/pyg-team/pytorch_geometric.git\n",
        "\n",
        "if not os.path.exists('ocp'):\n",
        "     !git clone https://github.com/Open-Catalyst-Project/ocp.git\n",
        "os.chdir('ocp')\n",
        "!pip install -e .\n",
        "!pip -q install  lmdb pymatgen==2023.5.10 ase==3.22.1 orjson e3nn==0.2.6 wandb\n",
        "!pip install submitit"
      ]
    },
    {
      "cell_type": "code",
      "execution_count": null,
      "metadata": {
        "id": "WFhrw-pWeGWp"
      },
      "outputs": [],
      "source": [
        "import json,zipfile\n",
        "import numpy as np\n",
        "import pandas as pd\n",
        "from tqdm import tqdm\n",
        "\n",
        "from ase.io import read\n",
        "\n",
        "from torch.nn.parallel import DistributedDataParallel as DDP\n",
        "import torch.distributed as dist\n",
        "\n",
        "from ocpmodels.datasets import SinglePointLmdbDataset\n",
        "from ocpmodels.preprocessing import AtomsToGraphs\n",
        "from ocpmodels.models import CGCNN,SchNet\n",
        "from ocpmodels.datasets import data_list_collater\n",
        "from ocpmodels.common.relaxation.ase_utils import OCPCalculator\n"
      ]
    },
    {
      "cell_type": "code",
      "execution_count": null,
      "metadata": {
        "id": "iduEf7KgicAn"
      },
      "outputs": [],
      "source": [
        "if torch.cuda.is_available():\n",
        "    device = torch.device(\"cuda\")\n"
      ]
    },
    {
      "cell_type": "markdown",
      "metadata": {
        "id": "zED6-scoGBU5"
      },
      "source": [
        "## load some useful utillities\n",
        " code taken from https://open-catalyst-project.github.io/tutorial/fine-tuning/fine-tuning-oxides.html"
      ]
    },
    {
      "cell_type": "code",
      "execution_count": null,
      "metadata": {
        "id": "tYtk3f7G1MMA"
      },
      "outputs": [],
      "source": [
        "# @title\n",
        "import ocpmodels as om\n",
        "from pathlib import Path\n",
        "\n",
        "def ocp_root():\n",
        "    \"\"\"Return the root directory of the installed ocp package.\"\"\"\n",
        "    return Path(om.__file__).parent.parent\n",
        "\n",
        "def ocp_main():\n",
        "    \"\"\"Return the path to ocp main.py\"\"\"\n",
        "    return ocp_root() / \"main.py\""
      ]
    },
    {
      "cell_type": "code",
      "execution_count": null,
      "metadata": {
        "id": "-eTDmQ49h7oK"
      },
      "outputs": [],
      "source": [
        "# @title\n",
        "import subprocess\n",
        "import sys\n",
        "import numba\n",
        "import numpy as np\n",
        "import ase\n",
        "import e3nn\n",
        "import pymatgen.core as pc\n",
        "import torch\n",
        "import torch.cuda as tc\n",
        "import torch_geometric as tg\n",
        "import platform\n",
        "import psutil\n",
        "\n",
        "def describe_ocp():\n",
        "    \"\"\"Print some system information that could be useful in debugging.\"\"\"\n",
        "    print(sys.executable, sys.version)\n",
        "    print(f'ocp is installed at {ocp_root()}')\n",
        "\n",
        "    commit_hash = (\n",
        "            subprocess.check_output(\n",
        "                    [\n",
        "                        \"git\",\n",
        "                        \"-C\",\n",
        "                        om.__path__[0],\n",
        "                        \"describe\",\n",
        "                        \"--always\",\n",
        "                    ]\n",
        "                )\n",
        "                .strip()\n",
        "                .decode(\"ascii\")\n",
        "            )\n",
        "    print(f'ocp repo is at git commit: {commit_hash}')\n",
        "    print(f'numba: {numba.__version__}')\n",
        "    print(f'numpy: {np.version.version}')\n",
        "    print(f'ase: {ase.__version__}')\n",
        "    print(f'e3nn: {e3nn.__version__}')\n",
        "    print(f'pymatgen: {pc.__version__}')\n",
        "    print(f'torch: {torch.version.__version__}')\n",
        "    print(f'torch.version.cuda: {torch.version.cuda}')\n",
        "    print(f'torch.cuda: is_available: {tc.is_available()}')\n",
        "    if tc.is_available():\n",
        "        print('  __CUDNN VERSION:', torch.backends.cudnn.version())\n",
        "        print('  __Number CUDA Devices:', torch.cuda.device_count())\n",
        "        print('  __CUDA Device Name:',torch.cuda.get_device_name(0))\n",
        "        print('  __CUDA Device Total Memory [GB]:',torch.cuda.get_device_properties(0).total_memory/1e9)\n",
        "    print(f'torch geometric: {tg.__version__}')\n",
        "    print()\n",
        "    print(f'Platform: {platform.platform()}')\n",
        "    print(f'  Processor: {platform.processor()}')\n",
        "    print(f'  Virtual memory: {psutil.virtual_memory()}')\n",
        "    print(f'  Swap memory: {psutil.swap_memory()}')\n",
        "    print(f'  Disk usage: {psutil.disk_usage(\"/\")}')"
      ]
    },
    {
      "cell_type": "code",
      "execution_count": null,
      "metadata": {
        "id": "pCQ9VQywxacJ"
      },
      "outputs": [],
      "source": [
        "# @title\n",
        "import urllib\n",
        "import os\n",
        "from pathlib import Path\n",
        "import requests\n",
        "\n",
        "checkpoints = {\n",
        "    # Open Catalyst 2020 (OC20)\n",
        "    'CGCNN 200k'\t:'https://dl.fbaipublicfiles.com/opencatalystproject/models/2020_11/s2ef/cgcnn_200k.pt',\n",
        "    'CGCNN 2M'\t    :'https://dl.fbaipublicfiles.com/opencatalystproject/models/2020_11/s2ef/cgcnn_2M.pt',\n",
        "    'CGCNN 20M'\t:'https://dl.fbaipublicfiles.com/opencatalystproject/models/2020_11/s2ef/cgcnn_20M.pt',\n",
        "    'CGCNN All'\t:'https://dl.fbaipublicfiles.com/opencatalystproject/models/2020_11/s2ef/cgcnn_all.pt',\n",
        "    'DimeNet 200k'\t:'https://dl.fbaipublicfiles.com/opencatalystproject/models/2020_11/s2ef/dimenet_200k.pt',\n",
        "    'DimeNet 2M'\t:'https://dl.fbaipublicfiles.com/opencatalystproject/models/2020_11/s2ef/dimenet_2M.pt',\n",
        "    'SchNet 200k'\t:'https://dl.fbaipublicfiles.com/opencatalystproject/models/2020_11/s2ef/schnet_200k.pt',\n",
        "    'SchNet 2M'\t    :'https://dl.fbaipublicfiles.com/opencatalystproject/models/2020_11/s2ef/schnet_2M.pt',\n",
        "    'SchNet 20M'\t:'https://dl.fbaipublicfiles.com/opencatalystproject/models/2020_11/s2ef/schnet_20M.pt',\n",
        "    'SchNet All'\t:'https://dl.fbaipublicfiles.com/opencatalystproject/models/2020_11/s2ef/schnet_all_large.pt',\n",
        "    'DimeNet++ 200k'   :'https://dl.fbaipublicfiles.com/opencatalystproject/models/2021_02/s2ef/dimenetpp_200k.pt',\n",
        "    'DimeNet++ 2M'     :'https://dl.fbaipublicfiles.com/opencatalystproject/models/2021_02/s2ef/dimenetpp_2M.pt',\n",
        "    'DimeNet++ 20M'    :'https://dl.fbaipublicfiles.com/opencatalystproject/models/2021_02/s2ef/dimenetpp_20M.pt',\n",
        "    'DimeNet++ All'    :'https://dl.fbaipublicfiles.com/opencatalystproject/models/2021_02/s2ef/dimenetpp_all.pt',\n",
        "    'SpinConv 2M'    :'https://dl.fbaipublicfiles.com/opencatalystproject/models/2021_12/s2ef/spinconv_force_centric_2M.pt',\n",
        "    'SpinConv All'    :'https://dl.fbaipublicfiles.com/opencatalystproject/models/2021_08/s2ef/spinconv_force_centric_all.pt',\n",
        "    'GemNet-dT 2M'    :'https://dl.fbaipublicfiles.com/opencatalystproject/models/2021_12/s2ef/gemnet_t_direct_h512_2M.pt',\n",
        "    'GemNet-dT All'    :'https://dl.fbaipublicfiles.com/opencatalystproject/models/2021_08/s2ef/gemnet_t_direct_h512_all.pt',\n",
        "    'PaiNN All'    :'https://dl.fbaipublicfiles.com/opencatalystproject/models/2022_05/s2ef/painn_h512_s2ef_all.pt',\n",
        "    'GemNet-OC 2M'     :'https://dl.fbaipublicfiles.com/opencatalystproject/models/2022_07/s2ef/gemnet_oc_base_s2ef_2M.pt',\n",
        "    'GemNet-OC All'    :'https://dl.fbaipublicfiles.com/opencatalystproject/models/2022_07/s2ef/gemnet_oc_base_s2ef_all.pt',\n",
        "    'GemNet-OC All+MD'    :'https://dl.fbaipublicfiles.com/opencatalystproject/models/2023_03/s2ef/gemnet_oc_base_s2ef_all_md.pt',\n",
        "    'GemNet-OC-Large All+MD' :'https://dl.fbaipublicfiles.com/opencatalystproject/models/2022_07/s2ef/gemnet_oc_large_s2ef_all_md.pt',\n",
        "    'SCN 2M'   :'https://dl.fbaipublicfiles.com/opencatalystproject/models/2023_03/s2ef/scn_t1_b1_s2ef_2M.pt',\n",
        "    'SCN-t4-b2 2M'    :'https://dl.fbaipublicfiles.com/opencatalystproject/models/2023_03/s2ef/scn_t4_b2_s2ef_2M.pt',\n",
        "    'SCN All+MD' :'https://dl.fbaipublicfiles.com/opencatalystproject/models/2023_03/s2ef/scn_all_md_s2ef.pt',\n",
        "    'eSCN-L4-M2-Lay12 2M'     :'https://dl.fbaipublicfiles.com/opencatalystproject/models/2023_03/s2ef/escn_l4_m2_lay12_2M_s2ef.pt',\n",
        "    'eSCN-L6-M2-Lay12 2M'    :'https://dl.fbaipublicfiles.com/opencatalystproject/models/2023_03/s2ef/escn_l6_m2_lay12_2M_s2ef.pt',\n",
        "    'eSCN-L6-M2-Lay12 All+MD'     :'https://dl.fbaipublicfiles.com/opencatalystproject/models/2023_03/s2ef/escn_l6_m2_lay12_all_md_s2ef.pt',\n",
        "    'eSCN-L6-M3-Lay20 All+MD'     :'https://dl.fbaipublicfiles.com/opencatalystproject/models/2023_03/s2ef/escn_l6_m3_lay20_all_md_s2ef.pt',\n",
        "    'EquiformerV2 (83M) 2M'     :'https://dl.fbaipublicfiles.com/opencatalystproject/models/2023_06/oc20/s2ef/eq2_83M_2M.pt',\n",
        "    'EquiformerV2 (31M) All+MD'     :'https://dl.fbaipublicfiles.com/opencatalystproject/models/2023_06/oc20/s2ef/eq2_31M_ec4_allmd.pt',\n",
        "    'EquiformerV2 (153M) All+MD'     :'https://dl.fbaipublicfiles.com/opencatalystproject/models/2023_06/oc20/s2ef/eq2_153M_ec4_allmd.pt',\n",
        "    # Open Catalyst 2022 (OC22)\n",
        "    'GemNet-dT OC22'\t: 'https://dl.fbaipublicfiles.com/opencatalystproject/models/2022_09/oc22/s2ef/gndt_oc22_all_s2ef.pt',\n",
        "    'GemNet-OC OC22'\t: 'https://dl.fbaipublicfiles.com/opencatalystproject/models/2022_09/oc22/s2ef/gnoc_oc22_all_s2ef.pt',\n",
        "    'GemNet-OC OC20+OC22'\t: 'https://dl.fbaipublicfiles.com/opencatalystproject/models/2022_09/oc22/s2ef/gnoc_oc22_oc20_all_s2ef.pt',\n",
        "    'GemNet-OC trained with `enforce_max_neighbors_strictly=False` #467 OC20+OC22' : 'https://dl.fbaipublicfiles.com/opencatalystproject/models/2023_05/oc22/s2ef/gnoc_oc22_oc20_all_s2ef.pt',\n",
        "    'GemNet-OC OC20->OC22'\t: 'https://dl.fbaipublicfiles.com/opencatalystproject/models/2022_09/oc22/s2ef/gnoc_finetune_all_s2ef.pt',\n",
        "    'equiformer' : 'https://dl.fbaipublicfiles.com/opencatalystproject/models/2023_10/oc22/s2ef/eq2_121M_e4_f100_oc22_s2ef.pt'\n",
        "                }\n",
        "\n",
        "def list_checkpoints():\n",
        "    \"\"\"List checkpoints that are available to download.\"\"\"\n",
        "    print('See https://github.com/Open-Catalyst-Project/ocp/blob/main/MODELS.md for more details.')\n",
        "    for key in checkpoints:\n",
        "        print(key)\n",
        "    print('Copy one of these keys to get_checkpoint(key) to download it.')\n",
        "\n",
        "\n",
        "def get_checkpoint(key):\n",
        "    \"\"\"Download a checkpoint.\n",
        "\n",
        "    key: string in checkpoints.\n",
        "\n",
        "    Returns name of checkpoint that was saved.\n",
        "    \"\"\"\n",
        "    url = checkpoints.get(key, None)\n",
        "    if url is None:\n",
        "        raise Exception('No url found for {key}')\n",
        "\n",
        "    pt = Path(urllib.parse.urlparse(url).path).name\n",
        "\n",
        "    if not os.path.exists(pt):\n",
        "        with open(pt, 'wb') as f:\n",
        "            print(f'Downloading {url}')\n",
        "            f.write(requests.get(url).content)\n",
        "    return pt\n",
        "from pathlib import Path\n",
        "import numpy as np\n",
        "from ase.db import connect\n",
        "\n",
        "def train_test_val_split(ase_db, ttv=(0.8, 0.1, .1), files=('train.db', 'test.db', 'val.db'), seed=42):\n",
        "    \"\"\"Split an ase db into train, test and validation dbs.\n",
        "\n",
        "    ase_db: path to an ase db containing all the data.\n",
        "    ttv: a tuple containing the fraction of train, test and val data. This will be normalized.\n",
        "    files: a tuple of filenames to write the splits into. An exception is raised if these exist.\n",
        "           You should delete them first.\n",
        "    seed: an integer for the random number generator seed\n",
        "\n",
        "    Returns the absolute path to files.\n",
        "    \"\"\"\n",
        "\n",
        "    for db in files:\n",
        "        if os.path.exists(db):\n",
        "            raise Exception('{db} exists. Please delete it before proceeding.')\n",
        "\n",
        "    src = connect(ase_db)\n",
        "    N = src.count()\n",
        "\n",
        "    ttv = np.array(ttv)\n",
        "    ttv /= ttv.sum()\n",
        "\n",
        "    train_end = int(N * ttv[0])\n",
        "    test_end = train_end + int(N * ttv[1])\n",
        "\n",
        "    train = connect(files[0])\n",
        "    test = connect(files[1])\n",
        "    val = connect(files[2])\n",
        "\n",
        "    ids = np.arange(1, N + 1)\n",
        "    rng = np.random.default_rng(seed=42)\n",
        "    rng.shuffle(ids)\n",
        "\n",
        "    for _id in ids[0:train_end]:\n",
        "        row = src.get(id=int(_id))\n",
        "        train.write(row.toatoms())\n",
        "\n",
        "    for _id in ids[train_end:test_end]:\n",
        "        row = src.get(id=int(_id))\n",
        "        test.write(row.toatoms())\n",
        "\n",
        "    for _id in ids[test_end:]:\n",
        "        row = src.get(id=int(_id))\n",
        "        val.write(row.toatoms())\n",
        "\n",
        "    return [Path(f).absolute() for f in files]\n",
        "# @title\n",
        "from yaml import load, dump\n",
        "from yaml import CLoader as Loader, CDumper as Dumper\n",
        "import torch\n",
        "import os\n",
        "from ocpmodels.common.relaxation.ase_utils import OCPCalculator\n",
        "from io import StringIO\n",
        "import sys\n",
        "import contextlib\n",
        "\n",
        "def generate_yml_config(checkpoint_path, yml='run.yml', delete=(), update=()):\n",
        "    \"\"\"Generate a yml config file from an existing checkpoint file.\n",
        "\n",
        "    checkpoint_path: string to path of an existing checkpoint\n",
        "    yml: name of file to write to.\n",
        "    pop: list of keys to remove from the config\n",
        "    update: dictionary of key:values to update\n",
        "\n",
        "    Use a dot notation in update.\n",
        "\n",
        "    Returns an absolute path to the generated yml file.\n",
        "    \"\"\"\n",
        "\n",
        "    # You can't just read in the checkpoint with torch. The calculator does some things to it.\n",
        "    # Rather than recreate that here I just reuse the calculator machinery. I don't want to\n",
        "    # see the output though, so I capture it.\n",
        "\n",
        "    with contextlib.redirect_stdout(StringIO()) as _:\n",
        "        config = OCPCalculator(checkpoint_path=checkpoint_path).config # there seems an parameter checkpoint changed in OCPcalculator (s.choung)\n",
        "\n",
        "    for key in delete:\n",
        "        if key in config and len(key.split('.')) == 1:\n",
        "            del config[key]\n",
        "        else:\n",
        "            keys = key.split('.')\n",
        "            if keys[0] in config:\n",
        "                d = config[keys[0]]\n",
        "            else:\n",
        "                continue\n",
        "            if isinstance(d, dict):\n",
        "                for k in keys[1:]:\n",
        "                    if isinstance(d[k], dict):\n",
        "                        d = d[k]\n",
        "                    else:\n",
        "                        if k in d:\n",
        "                            del d[k]\n",
        "\n",
        "    def nested_set(dic, keys, value):\n",
        "        for key in keys[:-1]:\n",
        "            dic = dic.setdefault(key, {})\n",
        "        dic[keys[-1]] = value\n",
        "\n",
        "    for _key in update:\n",
        "        keys = _key.split('.')\n",
        "        nested_set(config, keys, update[_key])\n",
        "\n",
        "\n",
        "    out = dump(config)\n",
        "    with open(yml, 'wb') as f:\n",
        "        f.write(out.encode('utf-8'))\n",
        "\n",
        "    return Path(yml).absolute()"
      ]
    },
    {
      "cell_type": "markdown",
      "metadata": {
        "id": "BY6fSPvDHFcH"
      },
      "source": [
        "Pt/CeO2 generation\n"
      ]
    },
    {
      "cell_type": "code",
      "execution_count": null,
      "metadata": {
        "colab": {
          "base_uri": "https://localhost:8080/"
        },
        "id": "mnuek7ViG81t",
        "outputId": "5b228776-30eb-4f21-aa58-4456c2e5a805"
      },
      "outputs": [
        {
          "output_type": "stream",
          "name": "stdout",
          "text": [
            "Downloading https://dl.fbaipublicfiles.com/opencatalystproject/models/2022_09/oc22/s2ef/gnoc_oc22_oc20_all_s2ef.pt\n"
          ]
        },
        {
          "output_type": "stream",
          "name": "stderr",
          "text": [
            "WARNING:root:Unable to identify OCP trainer, defaulting to `forces`. Specify the `trainer` argument into OCPCalculator if otherwise.\n",
            "WARNING:root:Unrecognized arguments: ['symmetric_edge_symmetrization']\n"
          ]
        }
      ],
      "source": [
        "gemnet = get_checkpoint('GemNet-OC OC20+OC22')\n",
        "from ocpmodels.common.relaxation.ase_utils import OCPCalculator\n",
        "calc = OCPCalculator(checkpoint_path=os.path.expanduser(gemnet), cpu=False)"
      ]
    },
    {
      "cell_type": "code",
      "source": [
        "!unzip ../energy_force.zip\n",
        "!unzip ../xdatcars.zip\n",
        "!unzip ../contcars.zip"
      ],
      "metadata": {
        "colab": {
          "base_uri": "https://localhost:8080/"
        },
        "id": "FfohB51nh9sB",
        "outputId": "81e2d6ae-af49-495d-89db-b4364eaf7730"
      },
      "execution_count": null,
      "outputs": [
        {
          "output_type": "stream",
          "name": "stdout",
          "text": [
            "Archive:  ../energy_force.zip\n",
            "   creating: energy_force/\n",
            "  inflating: energy_force/0.dat      \n",
            "  inflating: energy_force/1.dat      \n",
            "  inflating: energy_force/2.dat      \n",
            "  inflating: energy_force/3.dat      \n",
            "  inflating: energy_force/4.dat      \n",
            "  inflating: energy_force/5.dat      \n",
            "  inflating: energy_force/6.dat      \n",
            "  inflating: energy_force/7.dat      \n",
            "  inflating: energy_force/8.dat      \n",
            "  inflating: energy_force/9.dat      \n",
            "  inflating: energy_force/10.dat     \n",
            "  inflating: energy_force/11.dat     \n",
            "  inflating: energy_force/12.dat     \n",
            "  inflating: energy_force/13.dat     \n",
            "  inflating: energy_force/14.dat     \n",
            "  inflating: energy_force/15.dat     \n",
            "  inflating: energy_force/16.dat     \n",
            "  inflating: energy_force/17.dat     \n",
            "  inflating: energy_force/18.dat     \n",
            "  inflating: energy_force/19.dat     \n",
            "  inflating: energy_force/20.dat     \n",
            "  inflating: energy_force/22.dat     \n",
            "  inflating: energy_force/23.dat     \n",
            "  inflating: energy_force/24.dat     \n",
            "  inflating: energy_force/25.dat     \n",
            "  inflating: energy_force/26.dat     \n",
            "  inflating: energy_force/27.dat     \n",
            "  inflating: energy_force/28.dat     \n",
            "  inflating: energy_force/29.dat     \n",
            "Archive:  ../xdatcars.zip\n",
            "   creating: xdatcars/\n",
            "  inflating: xdatcars/0_XDATCAR      \n",
            "  inflating: xdatcars/1_XDATCAR      \n",
            "  inflating: xdatcars/2_XDATCAR      \n",
            "  inflating: xdatcars/3_XDATCAR      \n",
            "  inflating: xdatcars/4_XDATCAR      \n",
            "  inflating: xdatcars/5_XDATCAR      \n",
            "  inflating: xdatcars/6_XDATCAR      \n",
            "  inflating: xdatcars/7_XDATCAR      \n",
            "  inflating: xdatcars/8_XDATCAR      \n",
            "  inflating: xdatcars/9_XDATCAR      \n",
            "  inflating: xdatcars/10_XDATCAR     \n",
            "  inflating: xdatcars/11_XDATCAR     \n",
            "  inflating: xdatcars/12_XDATCAR     \n",
            "  inflating: xdatcars/13_XDATCAR     \n",
            "  inflating: xdatcars/14_XDATCAR     \n",
            "  inflating: xdatcars/15_XDATCAR     \n",
            "  inflating: xdatcars/16_XDATCAR     \n",
            "  inflating: xdatcars/17_XDATCAR     \n",
            "  inflating: xdatcars/18_XDATCAR     \n",
            "  inflating: xdatcars/19_XDATCAR     \n",
            "  inflating: xdatcars/20_XDATCAR     \n",
            "  inflating: xdatcars/22_XDATCAR     \n",
            "  inflating: xdatcars/23_XDATCAR     \n",
            "  inflating: xdatcars/24_XDATCAR     \n",
            "  inflating: xdatcars/25_XDATCAR     \n",
            "  inflating: xdatcars/26_XDATCAR     \n",
            "  inflating: xdatcars/27_XDATCAR     \n",
            "  inflating: xdatcars/28_XDATCAR     \n",
            "  inflating: xdatcars/29_XDATCAR     \n",
            " extracting: xdatcars/readme.md      \n",
            "Archive:  ../contcars.zip\n",
            "   creating: contcars/\n",
            "  inflating: contcars/0_CONTCAR      \n",
            "  inflating: contcars/1_CONTCAR      \n",
            "  inflating: contcars/2_CONTCAR      \n",
            "  inflating: contcars/3_CONTCAR      \n",
            "  inflating: contcars/4_CONTCAR      \n",
            "  inflating: contcars/5_CONTCAR      \n",
            "  inflating: contcars/6_CONTCAR      \n",
            "  inflating: contcars/7_CONTCAR      \n",
            "  inflating: contcars/9_CONTCAR      \n",
            "  inflating: contcars/10_CONTCAR     \n",
            "  inflating: contcars/11_CONTCAR     \n",
            "  inflating: contcars/12_CONTCAR     \n",
            "  inflating: contcars/13_CONTCAR     \n",
            "  inflating: contcars/14_CONTCAR     \n",
            "  inflating: contcars/15_CONTCAR     \n",
            "  inflating: contcars/16_CONTCAR     \n",
            "  inflating: contcars/17_CONTCAR     \n",
            "  inflating: contcars/18_CONTCAR     \n",
            "  inflating: contcars/19_CONTCAR     \n",
            "  inflating: contcars/20_CONTCAR     \n",
            "  inflating: contcars/21_CONTCAR     \n",
            "  inflating: contcars/22_CONTCAR     \n",
            "  inflating: contcars/23_CONTCAR     \n",
            "  inflating: contcars/24_CONTCAR     \n",
            "  inflating: contcars/25_CONTCAR     \n",
            "  inflating: contcars/26_CONTCAR     \n",
            "  inflating: contcars/27_CONTCAR     \n",
            "  inflating: contcars/28_CONTCAR     \n",
            "  inflating: contcars/29_CONTCAR     \n"
          ]
        }
      ]
    },
    {
      "cell_type": "markdown",
      "source": [
        "Parsing 완료 이제 ase.db 형식으로 변환함."
      ],
      "metadata": {
        "id": "bLnU14Tcn1z_"
      }
    },
    {
      "cell_type": "code",
      "source": [
        "#!unzip ../additional.zip\n",
        "!unzip outcar_traj.zip"
      ],
      "metadata": {
        "colab": {
          "base_uri": "https://localhost:8080/"
        },
        "id": "0AmkKA8MMRK8",
        "outputId": "1f6849a0-a12c-4f39-9924-1652f14d3fe3"
      },
      "execution_count": null,
      "outputs": [
        {
          "output_type": "stream",
          "name": "stdout",
          "text": [
            "Archive:  outcar_traj.zip\n",
            "   creating: outcar_traj/\n",
            "  inflating: outcar_traj/0_outcar.traj  \n",
            "  inflating: outcar_traj/1_outcar.traj  \n",
            "  inflating: outcar_traj/2_outcar.traj  \n",
            "  inflating: outcar_traj/3_outcar.traj  \n",
            "  inflating: outcar_traj/4_outcar.traj  \n",
            "  inflating: outcar_traj/5_outcar.traj  \n",
            "  inflating: outcar_traj/6_outcar.traj  \n",
            "  inflating: outcar_traj/7_outcar.traj  \n",
            "  inflating: outcar_traj/8_outcar.traj  \n",
            "  inflating: outcar_traj/9_outcar.traj  \n",
            "  inflating: outcar_traj/10_outcar.traj  \n",
            "  inflating: outcar_traj/11_outcar.traj  \n",
            "  inflating: outcar_traj/12_outcar.traj  \n",
            "  inflating: outcar_traj/13_outcar.traj  \n",
            "  inflating: outcar_traj/14_outcar.traj  \n",
            "  inflating: outcar_traj/15_outcar.traj  \n",
            "  inflating: outcar_traj/16_outcar.traj  \n",
            "  inflating: outcar_traj/17_outcar.traj  \n",
            "  inflating: outcar_traj/18_outcar.traj  \n",
            "  inflating: outcar_traj/19_outcar.traj  \n",
            "  inflating: outcar_traj/20_outcar.traj  \n",
            "  inflating: outcar_traj/21_outcar.traj  \n",
            "  inflating: outcar_traj/22_outcar.traj  \n",
            "  inflating: outcar_traj/23_outcar.traj  \n",
            "  inflating: outcar_traj/24_outcar.traj  \n"
          ]
        }
      ]
    },
    {
      "cell_type": "markdown",
      "source": [
        "## additional CeO2 data"
      ],
      "metadata": {
        "id": "okVTJjvaMabl"
      }
    },
    {
      "cell_type": "markdown",
      "source": [
        "### there is some issue to parse OUTCAR of VASP6 so i just did it in local and bring it back. as .traj"
      ],
      "metadata": {
        "id": "ChsnSQUHDtGJ"
      }
    },
    {
      "cell_type": "code",
      "source": [
        "'''\n",
        "import os\n",
        "import re\n",
        "from ase.io.vasp import read_vasp_xdatcar, read_vasp\n",
        "\n",
        "# Get the current working directory\n",
        "folder_path = os.getcwd()\n",
        "\n",
        "xdatcar_path = os.path.join(folder_path, 'additional/add_xdatcars')\n",
        "add_xdatcars = [f for f in os.listdir(xdatcar_path) if f.endswith('_XDATCAR')]\n",
        "traj_num = len(add_xdatcars)\n",
        "print(traj_num)\n",
        "\n",
        "contcar_path = os.path.join(folder_path, 'additional/add_contcars')\n",
        "contcars = [f for f in os.listdir(contcar_path) if f.endswith('_CONTCAR') ]\n",
        "\n",
        "add_contcar_ase_list=[]\n",
        "for contcar in contcars:\n",
        "  aseatoms = read_vasp(f\"{contcar_path}/{contcar}\")\n",
        "  add_contcar_ase_list.append(aseatoms)\n",
        "\n",
        "energy_force_folder = os.path.join(folder_path, 'additional/add_energy_force')\n",
        "\n",
        "# Check if energy_force_folder exists\n",
        "if os.path.exists(energy_force_folder) and os.path.isdir(energy_force_folder):\n",
        "    add_data = {}  # Use a dictionary to store data for different .dat files\n",
        "    for filename in os.listdir(energy_force_folder):\n",
        "        if filename.endswith('.dat'):\n",
        "            # Skip files with names '11.dat' or '8.dat'\n",
        "            if filename in ['11.dat', '8.dat']:\n",
        "                continue\n",
        "\n",
        "            file_path = os.path.join(energy_force_folder, filename)\n",
        "            file_data = []  # List to store data for the current file\n",
        "            with open(file_path, 'r') as f:\n",
        "                for line in f:\n",
        "                    match = re.match(r'^\\s*(\\d+)\\s+(\\S+)\\s+(-?\\d+\\.\\d+)\\s+(-?\\d+\\.\\d+)', line)\n",
        "                    if match:\n",
        "                        iteration, force, energy, _ = match.groups()\n",
        "                        file_data.append((int(iteration), float(force), float(energy)))\n",
        "            # Store the data for the current file in the dictionary\n",
        "            add_data[filename[:-4]] = file_data  # Remove the .dat extension from the filename\n",
        "\n",
        "    print('Parsed data (iteration, force, energy) for each file:')\n",
        "    for filename, file_data in add_data.items():\n",
        "        print(f'File: {filename}')\n",
        "        for d in file_data:\n",
        "            print(d)\n",
        "else:\n",
        "    print(f\"'{energy_force_folder}' does not exist or is not a directory.\")\n",
        "\n",
        "\n",
        "count=0\n",
        "for filename, file_data in add_data.items():\n",
        "    #print(f'File: {filename}')\n",
        "    for d in file_data:\n",
        "        #print(d)\n",
        "        count= count+1\n",
        "print(count)\n",
        "'''"
      ],
      "metadata": {
        "colab": {
          "base_uri": "https://localhost:8080/",
          "height": 91
        },
        "id": "bfJ3e2EeMZdW",
        "outputId": "a9b94734-0ca1-4e0b-b6c5-16f26180b2de"
      },
      "execution_count": null,
      "outputs": [
        {
          "output_type": "execute_result",
          "data": {
            "text/plain": [
              "'\\nimport os\\nimport re\\nfrom ase.io.vasp import read_vasp_xdatcar, read_vasp\\n\\n# Get the current working directory\\nfolder_path = os.getcwd()\\n\\nxdatcar_path = os.path.join(folder_path, \\'additional/add_xdatcars\\')\\nadd_xdatcars = [f for f in os.listdir(xdatcar_path) if f.endswith(\\'_XDATCAR\\')]\\ntraj_num = len(add_xdatcars)\\nprint(traj_num)\\n\\ncontcar_path = os.path.join(folder_path, \\'additional/add_contcars\\')\\ncontcars = [f for f in os.listdir(contcar_path) if f.endswith(\\'_CONTCAR\\') ]\\n\\nadd_contcar_ase_list=[]\\nfor contcar in contcars:\\n  aseatoms = read_vasp(f\"{contcar_path}/{contcar}\")\\n  add_contcar_ase_list.append(aseatoms)\\n\\nenergy_force_folder = os.path.join(folder_path, \\'additional/add_energy_force\\')\\n\\n# Check if energy_force_folder exists\\nif os.path.exists(energy_force_folder) and os.path.isdir(energy_force_folder):\\n    add_data = {}  # Use a dictionary to store data for different .dat files\\n    for filename in os.listdir(energy_force_folder):\\n        if filename.endswith(\\'.dat\\'):\\n            # Skip files with names \\'11.dat\\' or \\'8.dat\\'\\n            if filename in [\\'11.dat\\', \\'8.dat\\']:\\n                continue\\n            \\n            file_path = os.path.join(energy_force_folder, filename)\\n            file_data = []  # List to store data for the current file\\n            with open(file_path, \\'r\\') as f:\\n                for line in f:\\n                    match = re.match(r\\'^\\\\s*(\\\\d+)\\\\s+(\\\\S+)\\\\s+(-?\\\\d+\\\\.\\\\d+)\\\\s+(-?\\\\d+\\\\.\\\\d+)\\', line)\\n                    if match:\\n                        iteration, force, energy, _ = match.groups()\\n                        file_data.append((int(iteration), float(force), float(energy)))\\n            # Store the data for the current file in the dictionary\\n            add_data[filename[:-4]] = file_data  # Remove the .dat extension from the filename\\n\\n    print(\\'Parsed data (iteration, force, energy) for each file:\\')\\n    for filename, file_data in add_data.items():\\n        print(f\\'File: {filename}\\')\\n        for d in file_data:\\n            print(d)\\nelse:\\n    print(f\"\\'{energy_force_folder}\\' does not exist or is not a directory.\")\\n\\n\\ncount=0\\nfor filename, file_data in add_data.items():\\n    #print(f\\'File: {filename}\\')\\n    for d in file_data:\\n        #print(d)\\n        count= count+1\\nprint(count)\\n'"
            ],
            "application/vnd.google.colaboratory.intrinsic+json": {
              "type": "string"
            }
          },
          "metadata": {},
          "execution_count": 141
        }
      ]
    },
    {
      "cell_type": "code",
      "source": [
        "from ase.io import Trajectory\n",
        "\n",
        "# Define a function to get the order number from a filename\n",
        "def get_order_number(filename):\n",
        "    match = re.search(r'(\\d+)_XDATCAR', filename)\n",
        "    if match:\n",
        "        return int(match.group(1))\n",
        "    return None\n",
        "# Get the current working directory\n",
        "outcar_asetraj_list=[]\n",
        "folder_path = os.getcwd()\n",
        "outcar_path = os.path.join(folder_path, 'outcar_traj')\n",
        "\n",
        "outcars = sorted(\n",
        "    [f for f in os.listdir(outcar_path) if f.endswith('traj') and not any(exclude in f for exclude in ['8_outcar.traj', '11_outcar.traj', '21_outcar.traj'])],\n",
        "    key=lambda filename: xdatcars.index(filename.replace('_outcar.traj', '_XDATCAR'))\n",
        ")\n",
        "\n",
        "for f in outcars:\n",
        "   print(f)\n",
        "   path=os.path.join(outcar_path, f)\n",
        "   out_traj=Trajectory(path)\n",
        "   outcar_asetraj_list.append(out_traj)\n"
      ],
      "metadata": {
        "colab": {
          "base_uri": "https://localhost:8080/"
        },
        "id": "Yvh8gjwJEDI6",
        "outputId": "7cb0f639-cace-488d-e358-236599c48487"
      },
      "execution_count": null,
      "outputs": [
        {
          "output_type": "stream",
          "name": "stdout",
          "text": [
            "0_outcar.traj\n",
            "1_outcar.traj\n",
            "2_outcar.traj\n",
            "3_outcar.traj\n",
            "4_outcar.traj\n",
            "5_outcar.traj\n",
            "6_outcar.traj\n",
            "7_outcar.traj\n",
            "9_outcar.traj\n",
            "10_outcar.traj\n",
            "12_outcar.traj\n",
            "13_outcar.traj\n",
            "14_outcar.traj\n",
            "15_outcar.traj\n",
            "16_outcar.traj\n",
            "17_outcar.traj\n",
            "19_outcar.traj\n",
            "20_outcar.traj\n",
            "22_outcar.traj\n",
            "23_outcar.traj\n",
            "24_outcar.traj\n"
          ]
        }
      ]
    },
    {
      "cell_type": "code",
      "source": [
        "import os\n",
        "import re\n",
        "from ase.io.vasp import read_vasp_xdatcar, read_vasp\n",
        "\n",
        "# Define a function to get the order number from a filename\n",
        "def get_order_number(filename):\n",
        "    match = re.search(r'(\\d+)_XDATCAR', filename)\n",
        "    if match:\n",
        "        return int(match.group(1))\n",
        "    return None\n",
        "# Get the current working directory\n",
        "folder_path = os.getcwd()\n",
        "\n",
        "xdatcar_path = os.path.join(folder_path, 'xdatcars2')\n",
        "contcar_path = os.path.join(folder_path, 'contcars2')\n",
        "energy_force_folder = os.path.join(folder_path, 'energy_force')\n",
        "\n",
        "xdatcars = [f for f in os.listdir(xdatcar_path) if f.endswith('_XDATCAR') and not any(exclude in f for exclude in ['8_XDATCAR', '11_XDATCAR', '21_XDATCAR'])]\n",
        "xdatcars.sort(key=get_order_number)\n",
        "contcars = sorted(\n",
        "    [f for f in os.listdir(contcar_path) if f.endswith('_CONTCAR') and not any(exclude in f for exclude in ['8_CONTCAR', '11_CONTCAR', '21_XDATCAR'])],\n",
        "    key=lambda filename: xdatcars.index(filename.replace('_CONTCAR', '_XDATCAR'))\n",
        ")\n",
        "print(xdatcars)\n",
        "print(contcars)\n",
        "# Check if the number of XDATCAR and CONTCAR files match\n",
        "if len(xdatcars) != len(contcars):\n",
        "    print(\"Error: The number of XDATCAR and CONTCAR files does not match.\")\n",
        "else:\n",
        "    traj_num = len(xdatcars)\n",
        "    print(f\"Total trajectories: {traj_num}\")\n",
        "\n",
        "    contcar_ase_list = []\n",
        "    xdatcar_asetraj_list = []\n",
        "\n",
        "    for xdatcar, contcar in zip(xdatcars, contcars):\n",
        "        # Read CONTCAR and append to contcar_ase_list\n",
        "        contcar_atoms = read_vasp(os.path.join(contcar_path, contcar))\n",
        "        contcar_ase_list.append(contcar_atoms)\n",
        "\n",
        "        # Read XDATCAR and append to xdatcar_asetraj_list\n",
        "        xdatcar_frames = read_vasp_xdatcar(os.path.join(xdatcar_path, xdatcar), index=slice(1, None))\n",
        "        xdatcar_asetraj_list.append(xdatcar_frames)\n",
        "\n",
        "energy_force_files = [    f for f in os.listdir(energy_force_folder)     if f.endswith('.dat') and re.match(r'^\\d+\\.dat', f)]\n",
        "energy_force_files = sorted(\n",
        "    [f for f in os.listdir(energy_force_folder) if f.endswith('.dat') and not any(exclude in f for exclude in ['8.dat', '11.dat', '21.dat'])],\n",
        "    key=lambda filename: xdatcars.index(filename.replace('.dat','_XDATCAR'))\n",
        ")\n",
        "\n",
        "print(energy_force_files)\n",
        "print(len(energy_force_files))\n",
        "\n",
        "data = {}  # Use a dictionary to store data for different .dat files\n",
        "for filename in energy_force_files:\n",
        "    file_path = os.path.join(energy_force_folder, filename)\n",
        "    file_data = []  # List to store data for the current file\n",
        "    with open(file_path, 'r') as f:\n",
        "        for line in f:\n",
        "            match = re.match(r'^\\s*(\\d+)\\s+(\\S+)\\s+(-?\\d+\\.\\d+)\\s+(-?\\d+\\.\\d+)', line)\n",
        "            if match:\n",
        "                iteration, force, energy, _ = match.groups()\n",
        "                file_data.append((int(iteration), float(force), float(energy)))\n",
        "    # Store the data for the current file in the dictionary\n",
        "    data[filename[:-4]] = file_data  # Remove the .dat extension from the filename\n",
        "\n",
        "print('Parsed data (iteration, force, energy) for each file:')\n",
        "'''\n",
        "for filename, file_data in data.items():\n",
        "    print(f'File: {filename}')\n",
        "    for d in file_data:\n",
        "        print(d)\n",
        "'''\n",
        "count=0\n",
        "for filename, file_data in data.items():\n",
        "    #print(f'File: {filename}')\n",
        "    for d in file_data:\n",
        "        #print(d)\n",
        "        count= count+1\n",
        "print(count)"
      ],
      "metadata": {
        "colab": {
          "base_uri": "https://localhost:8080/"
        },
        "id": "v1FIKQerkJUh",
        "outputId": "76a96ba9-175d-471d-8716-6fbf0d9cbd8f"
      },
      "execution_count": null,
      "outputs": [
        {
          "output_type": "stream",
          "name": "stdout",
          "text": [
            "['0_XDATCAR', '1_XDATCAR', '2_XDATCAR', '3_XDATCAR', '4_XDATCAR', '5_XDATCAR', '6_XDATCAR', '7_XDATCAR', '9_XDATCAR', '10_XDATCAR', '12_XDATCAR', '13_XDATCAR', '14_XDATCAR', '15_XDATCAR', '16_XDATCAR', '17_XDATCAR', '19_XDATCAR', '20_XDATCAR', '22_XDATCAR', '23_XDATCAR', '24_XDATCAR', '25_XDATCAR', '26_XDATCAR', '27_XDATCAR', '29_XDATCAR']\n",
            "['0_CONTCAR', '1_CONTCAR', '2_CONTCAR', '3_CONTCAR', '4_CONTCAR', '5_CONTCAR', '6_CONTCAR', '7_CONTCAR', '9_CONTCAR', '10_CONTCAR', '12_CONTCAR', '13_CONTCAR', '14_CONTCAR', '15_CONTCAR', '16_CONTCAR', '17_CONTCAR', '19_CONTCAR', '20_CONTCAR', '22_CONTCAR', '23_CONTCAR', '24_CONTCAR', '25_CONTCAR', '26_CONTCAR', '27_CONTCAR', '29_CONTCAR']\n",
            "Total trajectories: 25\n",
            "['0.dat', '1.dat', '2.dat', '3.dat', '4.dat', '5.dat', '6.dat', '7.dat', '9.dat', '10.dat', '12.dat', '13.dat', '14.dat', '15.dat', '16.dat', '17.dat', '19.dat', '20.dat', '22.dat', '23.dat', '24.dat', '25.dat', '26.dat', '27.dat', '29.dat']\n",
            "25\n",
            "Parsed data (iteration, force, energy) for each file:\n",
            "1001\n"
          ]
        }
      ]
    },
    {
      "cell_type": "code",
      "source": [
        "from ase.io import Trajectory\n",
        "from ase.io.vasp import read_vasp_xdatcar\n",
        "\n",
        "xdatcar_constrainted_asetraj_list=[]\n",
        "\n",
        "force_list=[]\n",
        "energy_list=[]\n",
        "\n",
        "for contcar_atoms, xdatcar_asetraj, file_data in zip(contcar_ase_list, xdatcar_asetraj_list, data.values()):\n",
        "    # Extract separate columns from file_data\n",
        "    iterations = [data[0] for data in file_data]\n",
        "    forces = [data[1] for data in file_data]\n",
        "    force_list.append(forces)\n",
        "    energies = [data[2] for data in file_data]\n",
        "    energy_list.append(energies)\n",
        "\n",
        "    print(\"identify cont and xdat str matches:\", len(contcar_atoms), len(xdatcar_asetraj[0]))\n",
        "    print(\"identify xdat and ef order match:\", len(xdatcar_asetraj), len(forces))\n",
        "\n",
        "    for i, atoms in enumerate(xdatcar_asetraj):\n",
        "        # Apply constraints from contcar_atoms to atoms\n",
        "        atoms.set_constraint(contcar_atoms.constraints)\n",
        "\n",
        "    xdatcar_constrainted_asetraj_list.append(xdatcar_asetraj)\n"
      ],
      "metadata": {
        "colab": {
          "base_uri": "https://localhost:8080/"
        },
        "id": "husSRwEUB7EN",
        "outputId": "40d53104-d038-475f-d2e0-266c2ed36df2"
      },
      "execution_count": null,
      "outputs": [
        {
          "output_type": "stream",
          "name": "stdout",
          "text": [
            "identify cont and xdat str matches: 48 48\n",
            "identify xdat and ef order match: 24 24\n"
          ]
        }
      ]
    },
    {
      "cell_type": "code",
      "source": [
        "from ase.db import connect\n",
        "from ase.calculators.singlepoint import SinglePointCalculator\n",
        "from ase import Atoms\n",
        "\n",
        "# Remove the existing database\n",
        "! rm -fr pt_ceo2.db\n",
        "\n",
        "db = connect('pt_ceo2.db')\n",
        "\n",
        "for i, aseatoms_list in enumerate(xdatcar_constrainted_asetraj_list):\n",
        "    for j, ase_atoms in enumerate(aseatoms_list):\n",
        "        print(ase_atoms)\n",
        "        atoms = ase_atoms.copy()\n",
        "        calc = SinglePointCalculator(atoms,\n",
        "                                     energy=outcar_asetraj_list[i][j].get_total_energy(),\n",
        "                                     forces=outcar_asetraj_list[i][j].get_forces())\n",
        "        atoms.set_calculator(calc)\n",
        "        atoms.set_tags(np.ones(len(atoms)))\n",
        "\n",
        "        print(atoms)\n",
        "        db.write(atoms)\n"
      ],
      "metadata": {
        "colab": {
          "base_uri": "https://localhost:8080/"
        },
        "id": "GkuWMAmUBxD0",
        "outputId": "f63ccb26-479c-4600-9b22-7f99d8798a4e"
      },
      "execution_count": null,
      "outputs": [
        {
          "output_type": "stream",
          "name": "stdout",
          "text": [
            "Atoms(symbols='Ce16O32', pbc=True, cell=[[7.754604, 0.0, 0.0], [-3.877302, 6.715684, 0.0], [0.0, 0.0, 27.0]], constraint=FixAtoms(indices=[0, 1, 2, 3, 16, 17, 18, 19, 20, 21, 22, 23, 24, 25, 26, 27]))\n",
            "Atoms(symbols='Ce16O32', pbc=True, cell=[[7.754604, 0.0, 0.0], [-3.877302, 6.715684, 0.0], [0.0, 0.0, 27.0]], tags=..., constraint=FixAtoms(indices=[0, 1, 2, 3, 16, 17, 18, 19, 20, 21, 22, 23, 24, 25, 26, 27]), calculator=SinglePointCalculator(...))\n",
            "Atoms(symbols='Ce16O32', pbc=True, cell=[[7.754604, 0.0, 0.0], [-3.877302, 6.715684, 0.0], [0.0, 0.0, 27.0]], constraint=FixAtoms(indices=[0, 1, 2, 3, 16, 17, 18, 19, 20, 21, 22, 23, 24, 25, 26, 27]))\n",
            "Atoms(symbols='Ce16O32', pbc=True, cell=[[7.754604, 0.0, 0.0], [-3.877302, 6.715684, 0.0], [0.0, 0.0, 27.0]], tags=..., constraint=FixAtoms(indices=[0, 1, 2, 3, 16, 17, 18, 19, 20, 21, 22, 23, 24, 25, 26, 27]), calculator=SinglePointCalculator(...))\n",
            "Atoms(symbols='Ce16O32', pbc=True, cell=[[7.754604, 0.0, 0.0], [-3.877302, 6.715684, 0.0], [0.0, 0.0, 27.0]], constraint=FixAtoms(indices=[0, 1, 2, 3, 16, 17, 18, 19, 20, 21, 22, 23, 24, 25, 26, 27]))\n",
            "Atoms(symbols='Ce16O32', pbc=True, cell=[[7.754604, 0.0, 0.0], [-3.877302, 6.715684, 0.0], [0.0, 0.0, 27.0]], tags=..., constraint=FixAtoms(indices=[0, 1, 2, 3, 16, 17, 18, 19, 20, 21, 22, 23, 24, 25, 26, 27]), calculator=SinglePointCalculator(...))\n",
            "Atoms(symbols='Ce16O32', pbc=True, cell=[[7.754604, 0.0, 0.0], [-3.877302, 6.715684, 0.0], [0.0, 0.0, 27.0]], constraint=FixAtoms(indices=[0, 1, 2, 3, 16, 17, 18, 19, 20, 21, 22, 23, 24, 25, 26, 27]))\n",
            "Atoms(symbols='Ce16O32', pbc=True, cell=[[7.754604, 0.0, 0.0], [-3.877302, 6.715684, 0.0], [0.0, 0.0, 27.0]], tags=..., constraint=FixAtoms(indices=[0, 1, 2, 3, 16, 17, 18, 19, 20, 21, 22, 23, 24, 25, 26, 27]), calculator=SinglePointCalculator(...))\n",
            "Atoms(symbols='Ce16O32', pbc=True, cell=[[7.754604, 0.0, 0.0], [-3.877302, 6.715684, 0.0], [0.0, 0.0, 27.0]], constraint=FixAtoms(indices=[0, 1, 2, 3, 16, 17, 18, 19, 20, 21, 22, 23, 24, 25, 26, 27]))\n",
            "Atoms(symbols='Ce16O32', pbc=True, cell=[[7.754604, 0.0, 0.0], [-3.877302, 6.715684, 0.0], [0.0, 0.0, 27.0]], tags=..., constraint=FixAtoms(indices=[0, 1, 2, 3, 16, 17, 18, 19, 20, 21, 22, 23, 24, 25, 26, 27]), calculator=SinglePointCalculator(...))\n",
            "Atoms(symbols='Ce16O32', pbc=True, cell=[[7.754604, 0.0, 0.0], [-3.877302, 6.715684, 0.0], [0.0, 0.0, 27.0]], constraint=FixAtoms(indices=[0, 1, 2, 3, 16, 17, 18, 19, 20, 21, 22, 23, 24, 25, 26, 27]))\n",
            "Atoms(symbols='Ce16O32', pbc=True, cell=[[7.754604, 0.0, 0.0], [-3.877302, 6.715684, 0.0], [0.0, 0.0, 27.0]], tags=..., constraint=FixAtoms(indices=[0, 1, 2, 3, 16, 17, 18, 19, 20, 21, 22, 23, 24, 25, 26, 27]), calculator=SinglePointCalculator(...))\n",
            "Atoms(symbols='Ce16O32', pbc=True, cell=[[7.754604, 0.0, 0.0], [-3.877302, 6.715684, 0.0], [0.0, 0.0, 27.0]], constraint=FixAtoms(indices=[0, 1, 2, 3, 16, 17, 18, 19, 20, 21, 22, 23, 24, 25, 26, 27]))\n",
            "Atoms(symbols='Ce16O32', pbc=True, cell=[[7.754604, 0.0, 0.0], [-3.877302, 6.715684, 0.0], [0.0, 0.0, 27.0]], tags=..., constraint=FixAtoms(indices=[0, 1, 2, 3, 16, 17, 18, 19, 20, 21, 22, 23, 24, 25, 26, 27]), calculator=SinglePointCalculator(...))\n",
            "Atoms(symbols='Ce16O32', pbc=True, cell=[[7.754604, 0.0, 0.0], [-3.877302, 6.715684, 0.0], [0.0, 0.0, 27.0]], constraint=FixAtoms(indices=[0, 1, 2, 3, 16, 17, 18, 19, 20, 21, 22, 23, 24, 25, 26, 27]))\n",
            "Atoms(symbols='Ce16O32', pbc=True, cell=[[7.754604, 0.0, 0.0], [-3.877302, 6.715684, 0.0], [0.0, 0.0, 27.0]], tags=..., constraint=FixAtoms(indices=[0, 1, 2, 3, 16, 17, 18, 19, 20, 21, 22, 23, 24, 25, 26, 27]), calculator=SinglePointCalculator(...))\n",
            "Atoms(symbols='Ce16O32', pbc=True, cell=[[7.754604, 0.0, 0.0], [-3.877302, 6.715684, 0.0], [0.0, 0.0, 27.0]], constraint=FixAtoms(indices=[0, 1, 2, 3, 16, 17, 18, 19, 20, 21, 22, 23, 24, 25, 26, 27]))\n",
            "Atoms(symbols='Ce16O32', pbc=True, cell=[[7.754604, 0.0, 0.0], [-3.877302, 6.715684, 0.0], [0.0, 0.0, 27.0]], tags=..., constraint=FixAtoms(indices=[0, 1, 2, 3, 16, 17, 18, 19, 20, 21, 22, 23, 24, 25, 26, 27]), calculator=SinglePointCalculator(...))\n",
            "Atoms(symbols='Ce16O32', pbc=True, cell=[[7.754604, 0.0, 0.0], [-3.877302, 6.715684, 0.0], [0.0, 0.0, 27.0]], constraint=FixAtoms(indices=[0, 1, 2, 3, 16, 17, 18, 19, 20, 21, 22, 23, 24, 25, 26, 27]))\n",
            "Atoms(symbols='Ce16O32', pbc=True, cell=[[7.754604, 0.0, 0.0], [-3.877302, 6.715684, 0.0], [0.0, 0.0, 27.0]], tags=..., constraint=FixAtoms(indices=[0, 1, 2, 3, 16, 17, 18, 19, 20, 21, 22, 23, 24, 25, 26, 27]), calculator=SinglePointCalculator(...))\n",
            "Atoms(symbols='Ce16O32', pbc=True, cell=[[7.754604, 0.0, 0.0], [-3.877302, 6.715684, 0.0], [0.0, 0.0, 27.0]], constraint=FixAtoms(indices=[0, 1, 2, 3, 16, 17, 18, 19, 20, 21, 22, 23, 24, 25, 26, 27]))\n",
            "Atoms(symbols='Ce16O32', pbc=True, cell=[[7.754604, 0.0, 0.0], [-3.877302, 6.715684, 0.0], [0.0, 0.0, 27.0]], tags=..., constraint=FixAtoms(indices=[0, 1, 2, 3, 16, 17, 18, 19, 20, 21, 22, 23, 24, 25, 26, 27]), calculator=SinglePointCalculator(...))\n",
            "Atoms(symbols='Ce16O32', pbc=True, cell=[[7.754604, 0.0, 0.0], [-3.877302, 6.715684, 0.0], [0.0, 0.0, 27.0]], constraint=FixAtoms(indices=[0, 1, 2, 3, 16, 17, 18, 19, 20, 21, 22, 23, 24, 25, 26, 27]))\n",
            "Atoms(symbols='Ce16O32', pbc=True, cell=[[7.754604, 0.0, 0.0], [-3.877302, 6.715684, 0.0], [0.0, 0.0, 27.0]], tags=..., constraint=FixAtoms(indices=[0, 1, 2, 3, 16, 17, 18, 19, 20, 21, 22, 23, 24, 25, 26, 27]), calculator=SinglePointCalculator(...))\n",
            "Atoms(symbols='Ce16O32', pbc=True, cell=[[7.754604, 0.0, 0.0], [-3.877302, 6.715684, 0.0], [0.0, 0.0, 27.0]], constraint=FixAtoms(indices=[0, 1, 2, 3, 16, 17, 18, 19, 20, 21, 22, 23, 24, 25, 26, 27]))\n",
            "Atoms(symbols='Ce16O32', pbc=True, cell=[[7.754604, 0.0, 0.0], [-3.877302, 6.715684, 0.0], [0.0, 0.0, 27.0]], tags=..., constraint=FixAtoms(indices=[0, 1, 2, 3, 16, 17, 18, 19, 20, 21, 22, 23, 24, 25, 26, 27]), calculator=SinglePointCalculator(...))\n",
            "Atoms(symbols='Ce16O32', pbc=True, cell=[[7.754604, 0.0, 0.0], [-3.877302, 6.715684, 0.0], [0.0, 0.0, 27.0]], constraint=FixAtoms(indices=[0, 1, 2, 3, 16, 17, 18, 19, 20, 21, 22, 23, 24, 25, 26, 27]))\n",
            "Atoms(symbols='Ce16O32', pbc=True, cell=[[7.754604, 0.0, 0.0], [-3.877302, 6.715684, 0.0], [0.0, 0.0, 27.0]], tags=..., constraint=FixAtoms(indices=[0, 1, 2, 3, 16, 17, 18, 19, 20, 21, 22, 23, 24, 25, 26, 27]), calculator=SinglePointCalculator(...))\n",
            "Atoms(symbols='Ce16O32', pbc=True, cell=[[7.754604, 0.0, 0.0], [-3.877302, 6.715684, 0.0], [0.0, 0.0, 27.0]], constraint=FixAtoms(indices=[0, 1, 2, 3, 16, 17, 18, 19, 20, 21, 22, 23, 24, 25, 26, 27]))\n",
            "Atoms(symbols='Ce16O32', pbc=True, cell=[[7.754604, 0.0, 0.0], [-3.877302, 6.715684, 0.0], [0.0, 0.0, 27.0]], tags=..., constraint=FixAtoms(indices=[0, 1, 2, 3, 16, 17, 18, 19, 20, 21, 22, 23, 24, 25, 26, 27]), calculator=SinglePointCalculator(...))\n",
            "Atoms(symbols='Ce16O32', pbc=True, cell=[[7.754604, 0.0, 0.0], [-3.877302, 6.715684, 0.0], [0.0, 0.0, 27.0]], constraint=FixAtoms(indices=[0, 1, 2, 3, 16, 17, 18, 19, 20, 21, 22, 23, 24, 25, 26, 27]))\n",
            "Atoms(symbols='Ce16O32', pbc=True, cell=[[7.754604, 0.0, 0.0], [-3.877302, 6.715684, 0.0], [0.0, 0.0, 27.0]], tags=..., constraint=FixAtoms(indices=[0, 1, 2, 3, 16, 17, 18, 19, 20, 21, 22, 23, 24, 25, 26, 27]), calculator=SinglePointCalculator(...))\n",
            "Atoms(symbols='Ce16O32', pbc=True, cell=[[7.754604, 0.0, 0.0], [-3.877302, 6.715684, 0.0], [0.0, 0.0, 27.0]], constraint=FixAtoms(indices=[0, 1, 2, 3, 16, 17, 18, 19, 20, 21, 22, 23, 24, 25, 26, 27]))\n",
            "Atoms(symbols='Ce16O32', pbc=True, cell=[[7.754604, 0.0, 0.0], [-3.877302, 6.715684, 0.0], [0.0, 0.0, 27.0]], tags=..., constraint=FixAtoms(indices=[0, 1, 2, 3, 16, 17, 18, 19, 20, 21, 22, 23, 24, 25, 26, 27]), calculator=SinglePointCalculator(...))\n",
            "Atoms(symbols='Ce16O32', pbc=True, cell=[[7.754604, 0.0, 0.0], [-3.877302, 6.715684, 0.0], [0.0, 0.0, 27.0]], constraint=FixAtoms(indices=[0, 1, 2, 3, 16, 17, 18, 19, 20, 21, 22, 23, 24, 25, 26, 27]))\n",
            "Atoms(symbols='Ce16O32', pbc=True, cell=[[7.754604, 0.0, 0.0], [-3.877302, 6.715684, 0.0], [0.0, 0.0, 27.0]], tags=..., constraint=FixAtoms(indices=[0, 1, 2, 3, 16, 17, 18, 19, 20, 21, 22, 23, 24, 25, 26, 27]), calculator=SinglePointCalculator(...))\n",
            "Atoms(symbols='Ce16O32', pbc=True, cell=[[7.754604, 0.0, 0.0], [-3.877302, 6.715684, 0.0], [0.0, 0.0, 27.0]], constraint=FixAtoms(indices=[0, 1, 2, 3, 16, 17, 18, 19, 20, 21, 22, 23, 24, 25, 26, 27]))\n",
            "Atoms(symbols='Ce16O32', pbc=True, cell=[[7.754604, 0.0, 0.0], [-3.877302, 6.715684, 0.0], [0.0, 0.0, 27.0]], tags=..., constraint=FixAtoms(indices=[0, 1, 2, 3, 16, 17, 18, 19, 20, 21, 22, 23, 24, 25, 26, 27]), calculator=SinglePointCalculator(...))\n",
            "Atoms(symbols='Ce16O32', pbc=True, cell=[[7.754604, 0.0, 0.0], [-3.877302, 6.715684, 0.0], [0.0, 0.0, 27.0]], constraint=FixAtoms(indices=[0, 1, 2, 3, 16, 17, 18, 19, 20, 21, 22, 23, 24, 25, 26, 27]))\n",
            "Atoms(symbols='Ce16O32', pbc=True, cell=[[7.754604, 0.0, 0.0], [-3.877302, 6.715684, 0.0], [0.0, 0.0, 27.0]], tags=..., constraint=FixAtoms(indices=[0, 1, 2, 3, 16, 17, 18, 19, 20, 21, 22, 23, 24, 25, 26, 27]), calculator=SinglePointCalculator(...))\n",
            "Atoms(symbols='Ce16O32', pbc=True, cell=[[7.754604, 0.0, 0.0], [-3.877302, 6.715684, 0.0], [0.0, 0.0, 27.0]], constraint=FixAtoms(indices=[0, 1, 2, 3, 16, 17, 18, 19, 20, 21, 22, 23, 24, 25, 26, 27]))\n",
            "Atoms(symbols='Ce16O32', pbc=True, cell=[[7.754604, 0.0, 0.0], [-3.877302, 6.715684, 0.0], [0.0, 0.0, 27.0]], tags=..., constraint=FixAtoms(indices=[0, 1, 2, 3, 16, 17, 18, 19, 20, 21, 22, 23, 24, 25, 26, 27]), calculator=SinglePointCalculator(...))\n",
            "Atoms(symbols='Ce16O32', pbc=True, cell=[[7.754604, 0.0, 0.0], [-3.877302, 6.715684, 0.0], [0.0, 0.0, 27.0]], constraint=FixAtoms(indices=[0, 1, 2, 3, 16, 17, 18, 19, 20, 21, 22, 23, 24, 25, 26, 27]))\n",
            "Atoms(symbols='Ce16O32', pbc=True, cell=[[7.754604, 0.0, 0.0], [-3.877302, 6.715684, 0.0], [0.0, 0.0, 27.0]], tags=..., constraint=FixAtoms(indices=[0, 1, 2, 3, 16, 17, 18, 19, 20, 21, 22, 23, 24, 25, 26, 27]), calculator=SinglePointCalculator(...))\n",
            "Atoms(symbols='Ce16O32', pbc=True, cell=[[7.754604, 0.0, 0.0], [-3.877302, 6.715684, 0.0], [0.0, 0.0, 27.0]], constraint=FixAtoms(indices=[0, 1, 2, 3, 16, 17, 18, 19, 20, 21, 22, 23, 24, 25, 26, 27]))\n",
            "Atoms(symbols='Ce16O32', pbc=True, cell=[[7.754604, 0.0, 0.0], [-3.877302, 6.715684, 0.0], [0.0, 0.0, 27.0]], tags=..., constraint=FixAtoms(indices=[0, 1, 2, 3, 16, 17, 18, 19, 20, 21, 22, 23, 24, 25, 26, 27]), calculator=SinglePointCalculator(...))\n",
            "Atoms(symbols='Ce16O32', pbc=True, cell=[[7.754604, 0.0, 0.0], [-3.877302, 6.715684, 0.0], [0.0, 0.0, 27.0]], constraint=FixAtoms(indices=[0, 1, 2, 3, 16, 17, 18, 19, 20, 21, 22, 23, 24, 25, 26, 27]))\n",
            "Atoms(symbols='Ce16O32', pbc=True, cell=[[7.754604, 0.0, 0.0], [-3.877302, 6.715684, 0.0], [0.0, 0.0, 27.0]], tags=..., constraint=FixAtoms(indices=[0, 1, 2, 3, 16, 17, 18, 19, 20, 21, 22, 23, 24, 25, 26, 27]), calculator=SinglePointCalculator(...))\n"
          ]
        }
      ]
    },
    {
      "cell_type": "code",
      "source": [
        "! ase db pt_ceo2.db"
      ],
      "metadata": {
        "colab": {
          "base_uri": "https://localhost:8080/"
        },
        "id": "rWX1zXBSs6H_",
        "outputId": "73e03511-d5e7-41d4-f9ca-203005ecb82f"
      },
      "execution_count": null,
      "outputs": [
        {
          "output_type": "stream",
          "name": "stdout",
          "text": [
            "id|age|formula|calculator|  energy|natoms| fmax|pbc|  volume|charge|    mass\n",
            " 1| 8s|Ce16O32|unknown   |-388.260|    48|0.143|TTT|1406.092| 0.000|2753.824\n",
            " 2| 8s|Ce16O32|unknown   |-388.261|    48|0.156|TTT|1406.092| 0.000|2753.824\n",
            " 3| 8s|Ce16O32|unknown   |-388.262|    48|0.182|TTT|1406.092| 0.000|2753.824\n",
            " 4| 8s|Ce16O32|unknown   |-388.273|    48|0.154|TTT|1406.092| 0.000|2753.824\n",
            " 5| 8s|Ce16O32|unknown   |-388.282|    48|0.142|TTT|1406.092| 0.000|2753.824\n",
            " 6| 8s|Ce16O32|unknown   |-388.292|    48|0.136|TTT|1406.092| 0.000|2753.824\n",
            " 7| 8s|Ce16O32|unknown   |-388.295|    48|0.224|TTT|1406.092| 0.000|2753.824\n",
            " 8| 8s|Ce16O32|unknown   |-388.296|    48|0.191|TTT|1406.092| 0.000|2753.824\n",
            " 9| 8s|Ce16O32|unknown   |-388.302|    48|0.112|TTT|1406.092| 0.000|2753.824\n",
            "10| 8s|Ce16O32|unknown   |-388.309|    48|0.151|TTT|1406.092| 0.000|2753.824\n",
            "11| 8s|Ce16O32|unknown   |-388.315|    48|0.139|TTT|1406.092| 0.000|2753.824\n",
            "12| 8s|Ce16O32|unknown   |-388.325|    48|0.092|TTT|1406.092| 0.000|2753.824\n",
            "13| 8s|Ce16O32|unknown   |-388.325|    48|0.277|TTT|1406.092| 0.000|2753.824\n",
            "14| 8s|Ce16O32|unknown   |-388.329|    48|0.169|TTT|1406.092| 0.000|2753.824\n",
            "15| 8s|Ce16O32|unknown   |-388.334|    48|0.072|TTT|1406.092| 0.000|2753.824\n",
            "16| 8s|Ce16O32|unknown   |-388.335|    48|0.056|TTT|1406.092| 0.000|2753.824\n",
            "17| 8s|Ce16O32|unknown   |-388.335|    48|0.056|TTT|1406.092| 0.000|2753.824\n",
            "18| 8s|Ce16O32|unknown   |-388.336|    48|0.043|TTT|1406.092| 0.000|2753.824\n",
            "19| 8s|Ce16O32|unknown   |-388.338|    48|0.085|TTT|1406.092| 0.000|2753.824\n",
            "20| 8s|Ce16O32|unknown   |-388.339|    48|0.048|TTT|1406.092| 0.000|2753.824\n",
            "Rows: 24 (showing first 20)\n"
          ]
        }
      ]
    },
    {
      "cell_type": "code",
      "source": [
        "from ase import Atoms\n",
        "from ase.build import bulk\n",
        "from ase.constraints import ExpCellFilter, StrainFilter\n",
        "from ase.optimize import LBFGS, FIRE\n",
        "import numpy as np\n",
        "import pandas as pd\n",
        "import requests\n",
        "import pprint\n",
        "import sys\n",
        "import string\n",
        "import json\n",
        "import io\n",
        "import copy\n",
        "import ase.io\n",
        "import ase.calculators.singlepoint\n",
        "\n",
        "\n",
        "import locale\n",
        "locale.getpreferredencoding = lambda: \"UTF-8\"\n",
        "if not os.path.exists('tutorial'):\n",
        "     !git clone https://github.com/Open-Catalyst-Project/tutorial.git\n",
        "GemNet_checkpoint = get_checkpoint('GemNet-OC OC20+OC22')\n"
      ],
      "metadata": {
        "colab": {
          "base_uri": "https://localhost:8080/"
        },
        "id": "eLcgwI_sx2nX",
        "outputId": "c7d80902-95a2-4466-e745-369e60b653fb"
      },
      "execution_count": null,
      "outputs": [
        {
          "output_type": "stream",
          "name": "stdout",
          "text": [
            "Cloning into 'tutorial'...\n",
            "remote: Enumerating objects: 2147, done.\u001b[K\n",
            "remote: Counting objects: 100% (1408/1408), done.\u001b[K\n",
            "remote: Compressing objects: 100% (1134/1134), done.\u001b[K\n",
            "remote: Total 2147 (delta 311), reused 1328 (delta 249), pack-reused 739\u001b[K\n",
            "Receiving objects: 100% (2147/2147), 29.67 MiB | 16.76 MiB/s, done.\n",
            "Resolving deltas: 100% (560/560), done.\n"
          ]
        }
      ]
    },
    {
      "cell_type": "code",
      "source": [
        "! rm -fr train.db test.db val.db\n",
        "train, test, val = train_test_val_split('pt_ceo2.db')\n",
        "train, test, val"
      ],
      "metadata": {
        "colab": {
          "base_uri": "https://localhost:8080/"
        },
        "id": "TSHKnqbGPtVo",
        "outputId": "da4863ed-a3b8-4dc7-be54-9103dff94df8"
      },
      "execution_count": null,
      "outputs": [
        {
          "output_type": "execute_result",
          "data": {
            "text/plain": [
              "(PosixPath('/content/ocp/train.db'),\n",
              " PosixPath('/content/ocp/test.db'),\n",
              " PosixPath('/content/ocp/val.db'))"
            ]
          },
          "metadata": {},
          "execution_count": 181
        }
      ]
    },
    {
      "cell_type": "code",
      "source": [
        "import time\n",
        "import subprocess\n",
        "import os\n",
        "\n",
        "def train_and_save_checkpoint(lr, epochs, checkpoint_name):\n",
        "    # Generate the YAML configuration with the specified LR and epochs\n",
        "    yml = generate_yml_config(GemNet_checkpoint, 'config.yml',\n",
        "               delete=['slurm', 'cmd', 'logger', 'task', 'model_attributes',\n",
        "                       'optim.loss_force',\n",
        "                       'dataset', 'test_dataset', 'val_dataset'],\n",
        "               update={'gpus': 1,\n",
        "                       'task.dataset': 'ase_db',\n",
        "                       'optim.eval_every': 1,\n",
        "                       'optim.max_epochs': epochs,\n",
        "                       'lr_initial': lr,\n",
        "                       'dataset.train.src': 'train.db',\n",
        "                       'dataset.train.a2g_args.r_energy': True,\n",
        "                       'dataset.train.a2g_args.r_forces': True,\n",
        "                       'dataset.test.src': 'test.db',\n",
        "                       'dataset.test.a2g_args.r_energy': False,\n",
        "                       'dataset.test.a2g_args.r_forces': False,\n",
        "                       'dataset.val.src': 'val.db',\n",
        "                       'dataset.val.a2g_args.r_energy': True,\n",
        "                       'dataset.val.a2g_args.r_forces': True,\n",
        "                      })\n",
        "\n",
        "    # Construct the shell command\n",
        "    shell_command = f'python main.py --mode train --config-yml \"{yml}\" --checkpoint \"{GemNet_checkpoint}\" --run-dir fine-tuning --identifier {checkpoint_name} --amp > train_info/{checkpoint_name}.txt 2>&1'\n",
        "\n",
        "    # Measure execution time\n",
        "    t0 = time.time()\n",
        "    subprocess.run(shell_command, shell=True)\n",
        "    elapsed_time = time.time() - t0\n",
        "\n",
        "    print(f'Training completed. Elapsed time = {elapsed_time:1.1f} seconds')\n",
        "\n",
        "    return checkpoint_name  # Return the checkpoint name\n",
        "\n",
        "def save_checkpoint(checkpoint_name):\n",
        "    # Save the checkpoint to the specified directory\n",
        "    save_checkpoint_path = os.path.join(\"/content/drive/MyDrive/check_points/pt_ceo2\", checkpoint_name)\n",
        "    os.makedirs(save_checkpoint_path, exist_ok=True)\n",
        "    subprocess.run(f'cp -r fine-tuning/checkpoint {save_checkpoint_path}', shell=True)\n",
        "    print(f'Checkpoint saved to {save_checkpoint_path}')\n",
        "\n",
        "# Example usage:\n",
        "learning_rates = [0.00005,0.000005]  # List of learning rates to try\n",
        "epochs_list = [100, 200]  # List of epochs to try\n",
        "\n",
        "for lr in learning_rates:\n",
        "    for epochs in epochs_list:\n",
        "        checkpoint_name = f\"lr_{lr}_epochs_{epochs}\"\n",
        "        trained_checkpoint = train_and_save_checkpoint(lr, epochs, checkpoint_name)\n",
        "        #save_checkpoint(trained_checkpoint)  # Save the checkpoint after training\n"
      ],
      "metadata": {
        "colab": {
          "base_uri": "https://localhost:8080/"
        },
        "id": "FZTBb4TjVh8n",
        "outputId": "8d47c873-c61c-4d78-a6f3-0ca9510a3e9d"
      },
      "execution_count": null,
      "outputs": [
        {
          "output_type": "stream",
          "name": "stderr",
          "text": [
            "WARNING:root:Unable to identify OCP trainer, defaulting to `forces`. Specify the `trainer` argument into OCPCalculator if otherwise.\n",
            "WARNING:root:Unrecognized arguments: ['symmetric_edge_symmetrization']\n",
            "WARNING:root:Unable to identify OCP trainer, defaulting to `forces`. Specify the `trainer` argument into OCPCalculator if otherwise.\n",
            "WARNING:root:Unrecognized arguments: ['symmetric_edge_symmetrization']\n"
          ]
        },
        {
          "output_type": "stream",
          "name": "stdout",
          "text": [
            "Training completed. Elapsed time = 542.9 seconds\n"
          ]
        },
        {
          "output_type": "stream",
          "name": "stderr",
          "text": [
            "WARNING:root:Unable to identify OCP trainer, defaulting to `forces`. Specify the `trainer` argument into OCPCalculator if otherwise.\n",
            "WARNING:root:Unrecognized arguments: ['symmetric_edge_symmetrization']\n"
          ]
        },
        {
          "output_type": "stream",
          "name": "stdout",
          "text": [
            "Training completed. Elapsed time = 1087.4 seconds\n"
          ]
        },
        {
          "output_type": "stream",
          "name": "stderr",
          "text": [
            "WARNING:root:Unable to identify OCP trainer, defaulting to `forces`. Specify the `trainer` argument into OCPCalculator if otherwise.\n",
            "WARNING:root:Unrecognized arguments: ['symmetric_edge_symmetrization']\n"
          ]
        },
        {
          "output_type": "stream",
          "name": "stdout",
          "text": [
            "Training completed. Elapsed time = 550.6 seconds\n",
            "Training completed. Elapsed time = 1099.4 seconds\n"
          ]
        }
      ]
    },
    {
      "cell_type": "code",
      "source": [
        "import matplotlib.pyplot as plt\n",
        "\n",
        "# Define the path to the train.txt file\n",
        "train_log_path = '/content/ocp/train_info/lr_5e-06_epochs_100.txt'  # Update this with the correct path\n",
        "\n",
        "# Lists to store epoch and metric values\n",
        "epochs = []\n",
        "loss_values = []\n",
        "\n",
        "# Read and parse the train.txt file\n",
        "with open(train_log_path, 'r') as log_file:\n",
        "    lines = log_file.readlines()\n",
        "    for line in lines:\n",
        "        # Check if the line contains relevant training information\n",
        "        if 'loss:' in line:\n",
        "            parts = line.split(',')\n",
        "            for part in parts:\n",
        "                if 'epoch:' in part:\n",
        "                    epoch = float(part.split(':')[-1])\n",
        "                    epochs.append(epoch)\n",
        "                elif 'loss:' in part:\n",
        "                    loss = float(part.split(':')[1])\n",
        "                    loss_values.append(loss)\n",
        "\n",
        "# Plot the learning curve\n",
        "plt.figure(figsize=(10, 6))\n",
        "plt.plot(epochs, loss_values, marker='o', linestyle='-')\n",
        "plt.title('Learning Curve')\n",
        "plt.xlabel('Epoch')\n",
        "plt.ylabel('Loss')\n",
        "plt.grid(True)\n",
        "plt.show()\n"
      ],
      "metadata": {
        "colab": {
          "base_uri": "https://localhost:8080/",
          "height": 564
        },
        "id": "eiICFXqNkJor",
        "outputId": "98053cfa-98c9-432a-e2ae-eae42fb9d933"
      },
      "execution_count": null,
      "outputs": [
        {
          "output_type": "display_data",
          "data": {
            "text/plain": [
              "<Figure size 1000x600 with 1 Axes>"
            ],
            "image/png": "[encoded data removed]"
          },
          "metadata": {}
        }
      ]
    },
    {
      "cell_type": "code",
      "source": [
        "yml = generate_yml_config(GemNet_checkpoint, 'config.yml',\n",
        "                   delete=['slurm', 'cmd', 'logger', 'task', 'model_attributes',\n",
        "                           'optim.loss_force', # the checkpoint setting causes an error\n",
        "                           'dataset', 'test_dataset', 'val_dataset'],\n",
        "                   update={'gpus': 1,\n",
        "                           'task.dataset': 'ase_db',\n",
        "                           'optim.eval_every': 1,\n",
        "                           'optim.max_epochs': 10,\n",
        "                           'lr_initial': 0.00005, # 1/10 of original one\n",
        "                           # Train data\n",
        "                           'dataset.train.src': 'train.db',\n",
        "                           'dataset.train.a2g_args.r_energy': True,\n",
        "                           'dataset.train.a2g_args.r_forces': True,\n",
        "                            # Test data - prediction only so no regression\n",
        "                           'dataset.test.src': 'test.db',\n",
        "                           'dataset.test.a2g_args.r_energy': False,\n",
        "                           'dataset.test.a2g_args.r_forces': False,\n",
        "                           # val data\n",
        "                           'dataset.val.src': 'val.db',\n",
        "                           'dataset.val.a2g_args.r_energy': True,\n",
        "                           'dataset.val.a2g_args.r_forces': True,\n",
        "                          })\n",
        "import time\n",
        "import subprocess\n",
        "\n",
        "# Define the paths to the YAML configuration file and checkpoint\n",
        "\n",
        "# Construct the shell command\n",
        "shell_command = f'python main.py --mode train --config-yml \"{yml}\" --checkpoint \"{GemNet_checkpoint}\" --run-dir fine-tuning --identifier ft-oxides --amp > train.txt 2>&1'\n",
        "\n",
        "# Measure execution time\n",
        "t0 = time.time()\n",
        "subprocess.run(shell_command, shell=True)\n",
        "elapsed_time = time.time() - t0\n",
        "\n",
        "print(f'Elapsed time = {elapsed_time:1.1f} seconds')\n"
      ],
      "metadata": {
        "colab": {
          "base_uri": "https://localhost:8080/"
        },
        "id": "762idhWAP0gD",
        "outputId": "261140c1-76f0-4280-909b-c551ed1db6ef"
      },
      "execution_count": null,
      "outputs": [
        {
          "output_type": "stream",
          "name": "stderr",
          "text": [
            "WARNING:root:Unable to identify OCP trainer, defaulting to `forces`. Specify the `trainer` argument into OCPCalculator if otherwise.\n",
            "WARNING:root:Unrecognized arguments: ['symmetric_edge_symmetrization']\n"
          ]
        }
      ]
    },
    {
      "cell_type": "code",
      "source": [
        "cpline = !grep \"checkpoint_dir:\" train.txt\n",
        "cpdir = cpline[0].split(':')[-1].strip()\n",
        "cpdir"
      ],
      "metadata": {
        "colab": {
          "base_uri": "https://localhost:8080/",
          "height": 36
        },
        "id": "JqUx73GjT5tg",
        "outputId": "d20bd36b-5f38-42b2-e8d2-08fb861959ae"
      },
      "execution_count": null,
      "outputs": [
        {
          "output_type": "execute_result",
          "data": {
            "text/plain": [
              "'fine-tuning/checkpoints/2023-11-10-08-14-56-ft-oxides'"
            ],
            "application/vnd.google.colaboratory.intrinsic+json": {
              "type": "string"
            }
          },
          "metadata": {},
          "execution_count": 201
        }
      ]
    },
    {
      "cell_type": "code",
      "source": [
        "!cp -r /content/ocp/fine-tuning  /content/drive/MyDrive/check_points/pt_ceo2/"
      ],
      "metadata": {
        "id": "refLX_kKU7pW"
      },
      "execution_count": null,
      "outputs": []
    },
    {
      "cell_type": "code",
      "source": [],
      "metadata": {
        "id": "GLGnvL_gmGKt"
      },
      "execution_count": null,
      "outputs": []
    },
    {
      "cell_type": "markdown",
      "source": [
        "위까지, Pt/CeO2 모델 오나성. 일단 nuria모델이용해서 테스트해보고, Screening용 vacacny모델은 Unvailinging쓰면 될듯?"
      ],
      "metadata": {
        "id": "t-tUU3iimGct"
      }
    },
    {
      "cell_type": "code",
      "execution_count": null,
      "metadata": {
        "id": "HCMYfxTrxxga"
      },
      "outputs": [],
      "source": [
        "from ase import Atoms\n",
        "from ase.build import bulk\n",
        "from ase.constraints import ExpCellFilter, StrainFilter\n",
        "from ase.optimize import LBFGS, FIRE\n",
        "import numpy as np\n",
        "import pandas as pd\n",
        "import requests\n",
        "import pprint\n",
        "import sys\n",
        "import string\n",
        "import json\n",
        "import io\n",
        "import copy\n",
        "import ase.io\n",
        "import ase.calculators.singlepoint\n",
        "from ase.optimize import LBFGS\n",
        "from ase.build import fcc111, molecule, add_adsorbate\n",
        "from ase.constraints import ExpCellFilter, StrainFilter\n",
        "\n",
        "\n",
        "def energy_cal(atoms, fmax=0.05):\n",
        "    atoms.set_calculator(calc)\n",
        "    tags = np.ones(len(atoms))\n",
        "    atoms.set_tags(tags)\n",
        "    print(tags)\n",
        "    opt1 = LBFGS(atoms)\n",
        "    opt1.run(fmax=fmax,steps=300)\n",
        "    return atoms.get_total_energy()\n",
        "def status(proceed):\n",
        "    num = int(proceed/5)\n",
        "    return '🟩'*num+'⬜️'*(20-num)\n",
        "def oc_calculator(data, fmax_ref, calculator):\n",
        "    E_tot_list=[]\n",
        "    for i, d in enumerate(data):\n",
        "        print('<<<<<<<<<<<<<<<<<<<<<<<<<<<<<', i+1, ' out of ', len(data), '>>>>>>>>>>>>>>>>>>>>>>>>>>>>')\n",
        "        E_tot = energy_cal(d, fmax=fmax_ref)\n",
        "        E_tot_list.append(round(E_tot, 3))\n",
        "        proceed = round((i+1) / len(data) * 100, 2)\n",
        "        print(status(proceed), proceed, '% done')\n",
        "    return E_tot_list\n",
        "\n",
        "e_adslab_tot=oc_calculator(adslab_list,0.05,calc)\n",
        "e_slab_tot=oc_calculator(slab_list,0.05,calc)"
      ]
    },
    {
      "cell_type": "code",
      "source": [
        "import json\n",
        "\n",
        "json_file_path = \"adslab_energylist_output.json\"  # Replace with the desired file path\n",
        "json_file_path2 = \"slab_energylist_output.json\"  # Replace with the desired file path\n",
        "\n",
        "# Write the list to the JSON file\n",
        "with open(json_file_path, \"w\") as json_file:\n",
        "    json.dump(e_adslab_tot, json_file)\n",
        "# Write the list to the JSON file\n",
        "with open(json_file_path2, \"w\") as json_file:\n",
        "    json.dump(e_slab_tot, json_file)"
      ],
      "metadata": {
        "id": "A-F6lG_OXqey"
      },
      "execution_count": null,
      "outputs": []
    },
    {
      "cell_type": "code",
      "source": [
        "from ase.io import Trajectory, write\n",
        "\n",
        "write('./adslab_list_relaxed.traj',adslab_list)\n",
        "write('./slab_list_relaxed.traj',slab_list)\n",
        "\n",
        "!cp -r './adslab_list_relaxed.traj' /content/drive/MyDrive/sa_generation_1029\n",
        "!cp -r './slab_list_relaxed.traj' /content/drive/MyDrive/sa_generation_1029\n"
      ],
      "metadata": {
        "id": "1gOCHUbAX7Ni"
      },
      "execution_count": null,
      "outputs": []
    },
    {
      "cell_type": "code",
      "source": [
        "import pandas as pd\n",
        "import matplotlib.pyplot as plt\n",
        "from sklearn.metrics import mean_absolute_error, mean_squared_error\n",
        "import numpy as np\n",
        "\n",
        "# Your data - stat_tot_e and e_tot should be lists or arrays\n",
        "# benchmark should be a string with the benchmark name\n",
        "\n",
        "# Create the scatter plot\n",
        "plt.scatter(stat_tot_e, e_tot, color='black')\n",
        "\n",
        "# Set the title and axis labels\n",
        "plt.title('#' + benchmark + ' benchmark')\n",
        "plt.xlabel('E_tot E_OC_model(eV)')\n",
        "plt.ylabel('E_tot E_PBE(eV)')\n",
        "\n",
        "# Optionally, you can add a grid\n",
        "plt.grid(True)\n",
        "\n",
        "# Calculate MAE and RMSE\n",
        "mae = mean_absolute_error(e_tot, stat_tot_e)\n",
        "rmse = np.sqrt(mean_squared_error(e_tot, stat_tot_e))\n",
        "\n",
        "# Print MAE and RMSE\n",
        "print(f\"MAE: {mae}\")\n",
        "print(f\"RMSE: {rmse}\")\n",
        "\n",
        "# Show the plot\n",
        "plt.show()\n"
      ],
      "metadata": {
        "id": "cnUbMg-_frpg"
      },
      "execution_count": null,
      "outputs": []
    }
  ],
  "metadata": {
    "accelerator": "GPU",
    "colab": {
      "provenance": [],
      "machine_shape": "hm",
      "gpuType": "A100",
      "include_colab_link": true
    },
    "kernelspec": {
      "display_name": "Python 3",
      "name": "python3"
    },
    "language_info": {
      "name": "python"
    }
  },
  "nbformat": 4,
  "nbformat_minor": 0
}