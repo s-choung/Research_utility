{
  "nbformat": 4,
  "nbformat_minor": 0,
  "metadata": {
    "colab": {
      "provenance": [],
      "authorship_tag": "ABX9TyMIM2iTqTe0xWgRbhflz8CC",
      "include_colab_link": true
    },
    "kernelspec": {
      "name": "python3",
      "display_name": "Python 3"
    },
    "language_info": {
      "name": "python"
    }
  },
  "cells": [
    {
      "cell_type": "markdown",
      "metadata": {
        "id": "view-in-github",
        "colab_type": "text"
      },
      "source": [
        "<a href=\"https://colab.research.google.com/github/s-choung/Research_utility/blob/main/ccel_groupmeeting_cleaning_schedule.ipynb\" target=\"_parent\"><img src=\"https://colab.research.google.com/assets/colab-badge.svg\" alt=\"Open In Colab\"/></a>"
      ]
    },
    {
      "cell_type": "markdown",
      "source": [
        "Group meeting (starting from 1/10)"
      ],
      "metadata": {
        "id": "2UbJewfl7cAT"
      }
    },
    {
      "cell_type": "code",
      "execution_count": 9,
      "metadata": {
        "id": "lQGI-DaK2n-a",
        "colab": {
          "base_uri": "https://localhost:8080/"
        },
        "outputId": "9580fc6d-80e4-4fa1-919a-255c539fa980"
      },
      "outputs": [
        {
          "output_type": "stream",
          "name": "stdout",
          "text": [
            "문진욱 ,\n",
            "김광욱 ,\n",
            "이유진 ,\n",
            "전우찬 ,\n",
            "성기헌 ,\n",
            "한호식 ,\n",
            "이원준 ,\n",
            "김윤경 ,\n",
            "박원규 ,\n",
            "정석현 ,\n",
            "한세희 ,\n",
            "김미연 ,\n",
            "전혁준 ,\n",
            "임현애 ,\n",
            "김영비 ,\n",
            "박병준 ,\n",
            "심규인 ,\n",
            "여운석 ,\n",
            "육현우 ,\n",
            "이예찬 ,\n",
            "서화경 ,\n",
            "정하영 ,\n"
          ]
        }
      ],
      "source": [
        "import random\n",
        "\n",
        "# Original names list\n",
        "names = [\n",
        "    \"박병준\", \"육현우\", \"심규인\", \"정석현\", \"이예찬\",\n",
        "    \"여운석\", \"정하영\", \"성기헌\", \"이원준\", \"김광욱\",\n",
        "    \"서화경\", \"이유진\", \"전혁준\", \"김미연\", \"김윤경\",\n",
        "    \"임현애\", \"김영비\", \"박원규\", \"문진욱\", \"한호식\",\n",
        "    \"전우찬\", \"한세희\"\n",
        "]\n",
        "\n",
        "# List of people to be added later\n",
        "names_later = ['서화경', '정하영', '임현애', '심규인', '여운석', '김영비', '이예찬', '육현우', '박병준']\n",
        "\n",
        "# Separate names into two lists\n",
        "non_later_people = [name for name in names if name not in names_later]\n",
        "later_people = [name for name in names if name in names_later]\n",
        "\n",
        "# Shuffle each list separately\n",
        "random.shuffle(non_later_people)\n",
        "random.shuffle(later_people)\n",
        "\n",
        "# Concatenate the lists\n",
        "final_order = non_later_people + later_people\n",
        "\n",
        "# Print the result\n",
        "for name in final_order:\n",
        "    print(name,',')\n"
      ]
    },
    {
      "cell_type": "markdown",
      "source": [
        "청소"
      ],
      "metadata": {
        "id": "gFazIXNLA_3X"
      }
    },
    {
      "cell_type": "code",
      "source": [
        "import random\n",
        "\n",
        "cleaning_names = [\n",
        "    \"박병준\", \"육현우\", \"심규인\", \"정석현\", \"여운석\",\n",
        "    \"정하영\", \"성기헌\", \"이원준\", \"서화경\", \"이유진\",\n",
        "    \"전혁준\", \"김미연\", \"임현애\", \"김영비\", \"박원규\",\n",
        "    \"문진욱\", \"한호식\", \"전우찬\", \"김광욱\"\n",
        "]  # 실험실 청소인원 제외\n",
        "\n",
        "random.shuffle(cleaning_names)\n",
        "\n",
        "# Print 4 names per row\n",
        "for i in range(0, len(cleaning_names), 4):\n",
        "    print(\", \".join(cleaning_names[i:i+4]))\n"
      ],
      "metadata": {
        "colab": {
          "base_uri": "https://localhost:8080/"
        },
        "id": "uE0Wvjy07auI",
        "outputId": "e5cb5790-e95f-4b74-b708-3d6675524993"
      },
      "execution_count": null,
      "outputs": [
        {
          "output_type": "stream",
          "name": "stdout",
          "text": [
            "전혁준, 박병준, 서화경, 이유진\n",
            "심규인, 여운석, 김영비, 김광욱\n",
            "정하영, 육현우, 전우찬, 문진욱\n",
            "정석현, 이원준, 임현애, 성기헌\n",
            "한호식, 박원규, 김미연\n"
          ]
        }
      ]
    }
  ]
}