{
  "nbformat": 4,
  "nbformat_minor": 0,
  "metadata": {
    "colab": {
      "provenance": [],
      "authorship_tag": "ABX9TyMSDsemVCwubVTzATQ1Chnn",
      "include_colab_link": true
    },
    "kernelspec": {
      "name": "python3",
      "display_name": "Python 3"
    },
    "language_info": {
      "name": "python"
    }
  },
  "cells": [
    {
      "cell_type": "markdown",
      "metadata": {
        "id": "view-in-github",
        "colab_type": "text"
      },
      "source": [
        "<a href=\"https://colab.research.google.com/github/s-choung/Research_utility/blob/main/ccel_groupmeeting_cleaning_schedule.ipynb\" target=\"_parent\"><img src=\"https://colab.research.google.com/assets/colab-badge.svg\" alt=\"Open In Colab\"/></a>"
      ]
    },
    {
      "cell_type": "markdown",
      "source": [
        "Group meeting"
      ],
      "metadata": {
        "id": "2UbJewfl7cAT"
      }
    },
    {
      "cell_type": "code",
      "execution_count": 1,
      "metadata": {
        "id": "lQGI-DaK2n-a",
        "colab": {
          "base_uri": "https://localhost:8080/"
        },
        "outputId": "52cd8052-d5d6-4830-bc7b-08a6c6d4d452"
      },
      "outputs": [
        {
          "output_type": "stream",
          "name": "stdout",
          "text": [
            "임현애\n",
            "김광욱\n",
            "김영비\n",
            "정석현\n",
            "이유진\n",
            "정하영\n",
            "한세희\n",
            "최예정\n",
            "여운석\n",
            "전우찬\n",
            "김미연\n",
            "심규인\n",
            "이예찬\n",
            "성기헌\n",
            "이원준\n",
            "박병준\n",
            "전혁준\n",
            "박원규\n",
            "김윤경\n",
            "육현우\n",
            "서화경\n",
            "문진욱\n",
            "한호식\n"
          ]
        }
      ],
      "source": [
        "import random\n",
        "\n",
        "names = [\n",
        "    \"박병준\", \"육현우\", \"심규인\", \"정석현\", \"이예찬\",\n",
        "    \"최예정\", \"여운석\", \"정하영\", \"성기헌\", \"이원준\",\n",
        "    \"서화경\", \"이유진\", \"전혁준\", \"김미연\", \"김윤경\",\n",
        "    \"임현애\", \"김영비\", \"박원규\", \"문진욱\", \"한호식\",\n",
        "    \"전우찬\", \"한세희\", \"김광욱\"\n",
        "]\n",
        "\n",
        "random.shuffle(names)\n",
        "for name in names:\n",
        "  print(name)\n"
      ]
    },
    {
      "cell_type": "markdown",
      "source": [
        "청소"
      ],
      "metadata": {
        "id": "gFazIXNLA_3X"
      }
    },
    {
      "cell_type": "code",
      "source": [
        "import random\n",
        "\n",
        "cleaning_names = [\n",
        "    \"박병준\", \"육현우\", \"여운석\", \"정하영\", \"성기헌\",\n",
        "    \"서화경\", \"이유진\", \"전혁준\", \"김미연\", \"이원준\",\n",
        "    \"임현애\", \"김영비\", \"박원규\", \"문진욱\", \"한호식\",\n",
        "    \"전우찬\", \"김광욱\"\n",
        "]\n",
        "\n",
        "random.shuffle(cleaning_names)\n",
        "for name in cleaning_names:\n",
        "  print(name,',')\n"
      ],
      "metadata": {
        "colab": {
          "base_uri": "https://localhost:8080/"
        },
        "id": "uE0Wvjy07auI",
        "outputId": "a9752ca4-c80f-4263-c4bd-f49b9a70bff2"
      },
      "execution_count": 3,
      "outputs": [
        {
          "output_type": "stream",
          "name": "stdout",
          "text": [
            "서화경 ,\n",
            "이원준 ,\n",
            "성기헌 ,\n",
            "김광욱 ,\n",
            "문진욱 ,\n",
            "육현우 ,\n",
            "한호식 ,\n",
            "이유진 ,\n",
            "정하영 ,\n",
            "전혁준 ,\n",
            "박병준 ,\n",
            "임현애 ,\n",
            "김영비 ,\n",
            "김미연 ,\n",
            "전우찬 ,\n",
            "여운석 ,\n",
            "박원규 ,\n"
          ]
        }
      ]
    },
    {
      "cell_type": "code",
      "source": [],
      "metadata": {
        "id": "TQWOCgy8BRZz"
      },
      "execution_count": null,
      "outputs": []
    }
  ]
}